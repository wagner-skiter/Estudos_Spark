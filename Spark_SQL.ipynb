{
 "cells": [
  {
   "cell_type": "markdown",
   "id": "considered-democrat",
   "metadata": {},
   "source": [
    "# Spark SQL"
   ]
  },
  {
   "cell_type": "markdown",
   "id": "better-implementation",
   "metadata": {},
   "source": [
    "**O spark SQL é usado para acessar dados estruturados com Spark**"
   ]
  },
  {
   "cell_type": "markdown",
   "id": "enabling-investigator",
   "metadata": {},
   "source": [
    "Podemos acompanhar a execução dos jobs acessando: http://localhost:4040/"
   ]
  },
  {
   "cell_type": "markdown",
   "id": "foster-russia",
   "metadata": {},
   "source": [
    "### Spark SQL e RDD's"
   ]
  },
  {
   "cell_type": "code",
   "execution_count": 1,
   "id": "municipal-handbook",
   "metadata": {},
   "outputs": [
    {
     "data": {
      "text/plain": [
       "'C:\\\\opt\\\\spark\\\\spark-3.1.1-bin-hadoop2.7'"
      ]
     },
     "execution_count": 1,
     "metadata": {},
     "output_type": "execute_result"
    }
   ],
   "source": [
    "import os\n",
    "import findspark\n",
    "findspark.init()\n",
    "findspark.find()\n",
    "import pyspark\n",
    "findspark.find()"
   ]
  },
  {
   "cell_type": "code",
   "execution_count": 2,
   "id": "honey-store",
   "metadata": {},
   "outputs": [],
   "source": [
    "from pyspark import SparkContext, SparkConf\n",
    "from pyspark.sql import SparkSession\n",
    "from pyspark.rdd import RDD\n",
    "from pyspark.sql import SparkSession\n",
    "from pyspark.sql import SQLContext\n",
    "from pyspark.sql import Row\n",
    "\n",
    "conf = pyspark.SparkConf().setAppName('SparkApp').setMaster('local[*]')\n",
    "sc = pyspark.SparkContext(conf=conf)\n",
    "spark = SparkSession(sc)\n",
    "sc._conf.get('spark.driver.memory')"
   ]
  },
  {
   "cell_type": "code",
   "execution_count": 3,
   "id": "intensive-savings",
   "metadata": {},
   "outputs": [],
   "source": [
    "# Spark Session - usando quando se trabalha com Dataframes no Spark\n",
    "\n",
    "spSession = SparkSession.builder.master('local').appName('DSA-SparkSQL').config('spark.some.config.option', 'some-value').getOrCreate()"
   ]
  },
  {
   "cell_type": "code",
   "execution_count": 4,
   "id": "black-fault",
   "metadata": {},
   "outputs": [],
   "source": [
    "# Criando o SQL context para trabalhar com Spark SQL\n",
    "\n",
    "sqlContext = SQLContext(sc)"
   ]
  },
  {
   "cell_type": "code",
   "execution_count": 5,
   "id": "latest-youth",
   "metadata": {},
   "outputs": [],
   "source": [
    "# Importando o arquivo e criando uma RDD\n",
    "\n",
    "linhasRDD1 = sc.textFile('C:/Users/skite/OneDrive/Documentos/GitHub/Spark/carros.csv')"
   ]
  },
  {
   "cell_type": "code",
   "execution_count": 6,
   "id": "separated-quest",
   "metadata": {},
   "outputs": [
    {
     "data": {
      "text/plain": [
       "['MAKE,FUELTYPE,ASPIRE,DOORS,BODY,DRIVE,CYLINDERS,HP,RPM,MPG-CITY,MPG-HWY,PRICE',\n",
       " 'subaru,gas,std,two,hatchback,fwd,four,69,4900,31,36,5118',\n",
       " 'chevrolet,gas,std,two,hatchback,fwd,three,48,5100,47,53,5151',\n",
       " 'mazda,gas,std,two,hatchback,fwd,four,68,5000,30,31,5195',\n",
       " 'toyota,gas,std,two,hatchback,fwd,four,62,4800,35,39,5348']"
      ]
     },
     "execution_count": 6,
     "metadata": {},
     "output_type": "execute_result"
    }
   ],
   "source": [
    "linhasRDD1.take(5)"
   ]
  },
  {
   "cell_type": "code",
   "execution_count": 7,
   "id": "continuing-spain",
   "metadata": {},
   "outputs": [
    {
     "data": {
      "text/plain": [
       "198"
      ]
     },
     "execution_count": 7,
     "metadata": {},
     "output_type": "execute_result"
    }
   ],
   "source": [
    "linhasRDD1.count()"
   ]
  },
  {
   "cell_type": "code",
   "execution_count": 8,
   "id": "passing-chair",
   "metadata": {},
   "outputs": [],
   "source": [
    "# Removendo a primeira linha - Tranformação 1\n",
    "\n",
    "linhasRDD2 = linhasRDD1.filter(lambda x: 'FUELTYPE' not in x)"
   ]
  },
  {
   "cell_type": "code",
   "execution_count": 9,
   "id": "sustainable-sphere",
   "metadata": {},
   "outputs": [
    {
     "data": {
      "text/plain": [
       "197"
      ]
     },
     "execution_count": 9,
     "metadata": {},
     "output_type": "execute_result"
    }
   ],
   "source": [
    "linhasRDD2.count()"
   ]
  },
  {
   "cell_type": "code",
   "execution_count": 10,
   "id": "intermediate-injury",
   "metadata": {},
   "outputs": [],
   "source": [
    "# Dividindo o conjunto de dados em colunas - Transformação 2\n",
    "\n",
    "linhasRDD3 = linhasRDD2.map(lambda line: line.split(','))"
   ]
  },
  {
   "cell_type": "code",
   "execution_count": 11,
   "id": "distant-bulgarian",
   "metadata": {},
   "outputs": [],
   "source": [
    "# Dividindo o conjunto de dados em colunas - Transformação 3\n",
    "\n",
    "linhasRDD4 = linhasRDD3.map(lambda p: Row(make = p[0], body = p[4], hp = int(p[7])))"
   ]
  },
  {
   "cell_type": "code",
   "execution_count": 12,
   "id": "offshore-wagner",
   "metadata": {},
   "outputs": [
    {
     "data": {
      "text/plain": [
       "\u001b[1;31mInit signature:\u001b[0m \u001b[0mRow\u001b[0m\u001b[1;33m(\u001b[0m\u001b[1;33m*\u001b[0m\u001b[0margs\u001b[0m\u001b[1;33m,\u001b[0m \u001b[1;33m**\u001b[0m\u001b[0mkwargs\u001b[0m\u001b[1;33m)\u001b[0m\u001b[1;33m\u001b[0m\u001b[1;33m\u001b[0m\u001b[0m\n",
       "\u001b[1;31mDocstring:\u001b[0m     \n",
       "A row in :class:`DataFrame`.\n",
       "The fields in it can be accessed:\n",
       "\n",
       "* like attributes (``row.key``)\n",
       "* like dictionary values (``row[key]``)\n",
       "\n",
       "``key in row`` will search through row keys.\n",
       "\n",
       "Row can be used to create a row object by using named arguments.\n",
       "It is not allowed to omit a named argument to represent that the value is\n",
       "None or missing. This should be explicitly set to None in this case.\n",
       "\n",
       ".. versionchanged:: 3.0.0\n",
       "    Rows created from named arguments no longer have\n",
       "    field names sorted alphabetically and will be ordered in the position as\n",
       "    entered.\n",
       "\n",
       "Examples\n",
       "--------\n",
       ">>> row = Row(name=\"Alice\", age=11)\n",
       ">>> row\n",
       "Row(name='Alice', age=11)\n",
       ">>> row['name'], row['age']\n",
       "('Alice', 11)\n",
       ">>> row.name, row.age\n",
       "('Alice', 11)\n",
       ">>> 'name' in row\n",
       "True\n",
       ">>> 'wrong_key' in row\n",
       "False\n",
       "\n",
       "Row also can be used to create another Row like class, then it\n",
       "could be used to create Row objects, such as\n",
       "\n",
       ">>> Person = Row(\"name\", \"age\")\n",
       ">>> Person\n",
       "<Row('name', 'age')>\n",
       ">>> 'name' in Person\n",
       "True\n",
       ">>> 'wrong_key' in Person\n",
       "False\n",
       ">>> Person(\"Alice\", 11)\n",
       "Row(name='Alice', age=11)\n",
       "\n",
       "This form can also be used to create rows as tuple values, i.e. with unnamed\n",
       "fields.\n",
       "\n",
       ">>> row1 = Row(\"Alice\", 11)\n",
       ">>> row2 = Row(name=\"Alice\", age=11)\n",
       ">>> row1 == row2\n",
       "True\n",
       "\u001b[1;31mFile:\u001b[0m           c:\\opt\\spark\\spark-3.1.1-bin-hadoop2.7\\python\\pyspark\\sql\\types.py\n",
       "\u001b[1;31mType:\u001b[0m           type\n",
       "\u001b[1;31mSubclasses:\u001b[0m     \n"
      ]
     },
     "metadata": {},
     "output_type": "display_data"
    }
   ],
   "source": [
    "?Row"
   ]
  },
  {
   "cell_type": "code",
   "execution_count": 13,
   "id": "competent-sending",
   "metadata": {},
   "outputs": [
    {
     "data": {
      "text/plain": [
       "[Row(make='subaru', body='hatchback', hp=69),\n",
       " Row(make='chevrolet', body='hatchback', hp=48),\n",
       " Row(make='mazda', body='hatchback', hp=68),\n",
       " Row(make='toyota', body='hatchback', hp=62),\n",
       " Row(make='mitsubishi', body='hatchback', hp=68),\n",
       " Row(make='honda', body='hatchback', hp=60),\n",
       " Row(make='nissan', body='sedan', hp=69),\n",
       " Row(make='dodge', body='hatchback', hp=68),\n",
       " Row(make='plymouth', body='hatchback', hp=68),\n",
       " Row(make='mazda', body='hatchback', hp=68),\n",
       " Row(make='mitsubishi', body='hatchback', hp=68),\n",
       " Row(make='dodge', body='hatchback', hp=68),\n",
       " Row(make='plymouth', body='hatchback', hp=68),\n",
       " Row(make='chevrolet', body='hatchback', hp=70),\n",
       " Row(make='toyota', body='hatchback', hp=62),\n",
       " Row(make='dodge', body='hatchback', hp=68),\n",
       " Row(make='honda', body='hatchback', hp=58),\n",
       " Row(make='toyota', body='hatchback', hp=62),\n",
       " Row(make='honda', body='hatchback', hp=76),\n",
       " Row(make='chevrolet', body='sedan', hp=70),\n",
       " Row(make='nissan', body='sedan', hp=69),\n",
       " Row(make='mitsubishi', body='hatchback', hp=68),\n",
       " Row(make='dodge', body='sedan', hp=68),\n",
       " Row(make='plymouth', body='sedan', hp=68),\n",
       " Row(make='mazda', body='sedan', hp=68),\n",
       " Row(make='isuzu', body='sedan', hp=78),\n",
       " Row(make='mazda', body='hatchback', hp=68),\n",
       " Row(make='nissan', body='sedan', hp=69),\n",
       " Row(make='honda', body='hatchback', hp=76),\n",
       " Row(make='toyota', body='wagon', hp=62),\n",
       " Row(make='toyota', body='sedan', hp=70),\n",
       " Row(make='mitsubishi', body='sedan', hp=88),\n",
       " Row(make='subaru', body='hatchback', hp=73),\n",
       " Row(make='nissan', body='sedan', hp=55),\n",
       " Row(make='subaru', body='sedan', hp=82),\n",
       " Row(make='honda', body='hatchback', hp=76),\n",
       " Row(make='toyota', body='hatchback', hp=70),\n",
       " Row(make='honda', body='sedan', hp=76),\n",
       " Row(make='honda', body='wagon', hp=76),\n",
       " Row(make='nissan', body='sedan', hp=69),\n",
       " Row(make='nissan', body='wagon', hp=69),\n",
       " Row(make='mazda', body='sedan', hp=68),\n",
       " Row(make='subaru', body='wagon', hp=82),\n",
       " Row(make='nissan', body='sedan', hp=69),\n",
       " Row(make='subaru', body='hatchback', hp=73),\n",
       " Row(make='dodge', body='sedan', hp=68),\n",
       " Row(make='plymouth', body='sedan', hp=68),\n",
       " Row(make='mitsubishi', body='hatchback', hp=102),\n",
       " Row(make='toyota', body='sedan', hp=70),\n",
       " Row(make='subaru', body='sedan', hp=82),\n",
       " Row(make='volkswagen', body='sedan', hp=52),\n",
       " Row(make='toyota', body='hatchback', hp=56),\n",
       " Row(make='nissan', body='hatchback', hp=69),\n",
       " Row(make='honda', body='hatchback', hp=86),\n",
       " Row(make='toyota', body='wagon', hp=62),\n",
       " Row(make='toyota', body='sedan', hp=56),\n",
       " Row(make='dodge', body='hatchback', hp=102),\n",
       " Row(make='plymouth', body='hatchback', hp=102),\n",
       " Row(make='volkswagen', body='sedan', hp=85),\n",
       " Row(make='volkswagen', body='sedan', hp=52),\n",
       " Row(make='nissan', body='wagon', hp=69),\n",
       " Row(make='subaru', body='wagon', hp=82),\n",
       " Row(make='toyota', body='sedan', hp=70),\n",
       " Row(make='mitsubishi', body='sedan', hp=88),\n",
       " Row(make='volkswagen', body='sedan', hp=85),\n",
       " Row(make='toyota', body='hatchback', hp=70),\n",
       " Row(make='nissan', body='hardtop', hp=69),\n",
       " Row(make='toyota', body='hatchback', hp=70),\n",
       " Row(make='toyota', body='hardtop', hp=116),\n",
       " Row(make='mazda', body='sedan', hp=84),\n",
       " Row(make='volkswagen', body='sedan', hp=85),\n",
       " Row(make='mitsubishi', body='hatchback', hp=88),\n",
       " Row(make='toyota', body='wagon', hp=62),\n",
       " Row(make='honda', body='sedan', hp=86),\n",
       " Row(make='mazda', body='hatchback', hp=84),\n",
       " Row(make='dodge', body='wagon', hp=88),\n",
       " Row(make='plymouth', body='wagon', hp=88),\n",
       " Row(make='toyota', body='sedan', hp=92),\n",
       " Row(make='nissan', body='hatchback', hp=97),\n",
       " Row(make='honda', body='hatchback', hp=86),\n",
       " Row(make='subaru', body='sedan', hp=82),\n",
       " Row(make='toyota', body='sedan', hp=70),\n",
       " Row(make='mitsubishi', body='sedan', hp=116),\n",
       " Row(make='mitsubishi', body='sedan', hp=116),\n",
       " Row(make='toyota', body='sedan', hp=112),\n",
       " Row(make='volkswagen', body='sedan', hp=68),\n",
       " Row(make='toyota', body='hatchback', hp=112),\n",
       " Row(make='nissan', body='sedan', hp=97),\n",
       " Row(make='toyota', body='hardtop', hp=116),\n",
       " Row(make='mitsubishi', body='hatchback', hp=116),\n",
       " Row(make='subaru', body='sedan', hp=94),\n",
       " Row(make='volkswagen', body='hatchback', hp=90),\n",
       " Row(make='toyota', body='hatchback', hp=92),\n",
       " Row(make='toyota', body='hatchback', hp=116),\n",
       " Row(make='volkswagen', body='sedan', hp=100),\n",
       " Row(make='subaru', body='wagon', hp=94),\n",
       " Row(make='mazda', body='sedan', hp=84),\n",
       " Row(make='honda', body='sedan', hp=86),\n",
       " Row(make='honda', body='sedan', hp=100),\n",
       " Row(make='mazda', body='hatchback', hp=84),\n",
       " Row(make='toyota', body='sedan', hp=73),\n",
       " Row(make='toyota', body='sedan', hp=92),\n",
       " Row(make='mazda', body='hatchback', hp=101),\n",
       " Row(make='isuzu', body='hatchback', hp=90),\n",
       " Row(make='toyota', body='hardtop', hp=116),\n",
       " Row(make='mazda', body='hatchback', hp=84),\n",
       " Row(make='toyota', body='hatchback', hp=92),\n",
       " Row(make='subaru', body='sedan', hp=111),\n",
       " Row(make='toyota', body='hatchback', hp=116),\n",
       " Row(make='volkswagen', body='convertible', hp=90),\n",
       " Row(make='subaru', body='wagon', hp=111),\n",
       " Row(make='mazda', body='hatchback', hp=101),\n",
       " Row(make='saab', body='hatchback', hp=110),\n",
       " Row(make='peugot', body='sedan', hp=97),\n",
       " Row(make='saab', body='sedan', hp=110),\n",
       " Row(make='volkswagen', body='wagon', hp=88),\n",
       " Row(make='peugot', body='wagon', hp=97),\n",
       " Row(make='mitsubishi', body='hatchback', hp=145),\n",
       " Row(make='plymouth', body='hatchback', hp=145),\n",
       " Row(make='volvo', body='sedan', hp=114),\n",
       " Row(make='honda', body='sedan', hp=101),\n",
       " Row(make='dodge', body='hatchback', hp=145),\n",
       " Row(make='peugot', body='sedan', hp=95),\n",
       " Row(make='volkswagen', body='sedan', hp=110),\n",
       " Row(make='volvo', body='wagon', hp=114),\n",
       " Row(make='alfa-romero', body='convertible', hp=111),\n",
       " Row(make='nissan', body='sedan', hp=152),\n",
       " Row(make='nissan', body='sedan', hp=152),\n",
       " Row(make='mazda', body='hatchback', hp=101),\n",
       " Row(make='volkswagen', body='sedan', hp=68),\n",
       " Row(make='peugot', body='wagon', hp=95),\n",
       " Row(make='audi', body='sedan', hp=102),\n",
       " Row(make='nissan', body='wagon', hp=152),\n",
       " Row(make='mitsubishi', body='hatchback', hp=145),\n",
       " Row(make='mitsubishi', body='hatchback', hp=145),\n",
       " Row(make='saab', body='hatchback', hp=110),\n",
       " Row(make='audi', body='sedan', hp=110),\n",
       " Row(make='saab', body='sedan', hp=110),\n",
       " Row(make='peugot', body='sedan', hp=95),\n",
       " Row(make='mazda', body='hatchback', hp=135),\n",
       " Row(make='toyota', body='sedan', hp=156),\n",
       " Row(make='toyota', body='wagon', hp=156),\n",
       " Row(make='volvo', body='sedan', hp=114),\n",
       " Row(make='toyota', body='hatchback', hp=161),\n",
       " Row(make='bmw', body='sedan', hp=101),\n",
       " Row(make='alfa-romero', body='convertible', hp=111),\n",
       " Row(make='alfa-romero', body='hatchback', hp=154),\n",
       " Row(make='mercury', body='hatchback', hp=175),\n",
       " Row(make='volvo', body='wagon', hp=114),\n",
       " Row(make='toyota', body='hatchback', hp=161),\n",
       " Row(make='peugot', body='sedan', hp=97),\n",
       " Row(make='peugot', body='wagon', hp=95),\n",
       " Row(make='volvo', body='sedan', hp=114),\n",
       " Row(make='peugot', body='sedan', hp=95),\n",
       " Row(make='bmw', body='sedan', hp=101),\n",
       " Row(make='peugot', body='wagon', hp=95),\n",
       " Row(make='nissan', body='hatchback', hp=160),\n",
       " Row(make='audi', body='sedan', hp=115),\n",
       " Row(make='toyota', body='convertible', hp=116),\n",
       " Row(make='audi', body='sedan', hp=110),\n",
       " Row(make='peugot', body='sedan', hp=95),\n",
       " Row(make='peugot', body='sedan', hp=142),\n",
       " Row(make='saab', body='hatchback', hp=160),\n",
       " Row(make='mazda', body='sedan', hp=120),\n",
       " Row(make='mazda', body='sedan', hp=72),\n",
       " Row(make='nissan', body='hatchback', hp=160),\n",
       " Row(make='volvo', body='sedan', hp=162),\n",
       " Row(make='saab', body='sedan', hp=160),\n",
       " Row(make='audi', body='wagon', hp=110),\n",
       " Row(make='volvo', body='wagon', hp=162),\n",
       " Row(make='volvo', body='sedan', hp=160),\n",
       " Row(make='nissan', body='hatchback', hp=200),\n",
       " Row(make='bmw', body='sedan', hp=121),\n",
       " Row(make='bmw', body='sedan', hp=121),\n",
       " Row(make='volvo', body='sedan', hp=134),\n",
       " Row(make='porsche', body='hatchback', hp=143),\n",
       " Row(make='volvo', body='sedan', hp=106),\n",
       " Row(make='volvo', body='sedan', hp=114),\n",
       " Row(make='audi', body='sedan', hp=140),\n",
       " Row(make='bmw', body='sedan', hp=121),\n",
       " Row(make='mercedes-benz', body='sedan', hp=123),\n",
       " Row(make='mercedes-benz', body='hardtop', hp=123),\n",
       " Row(make='mercedes-benz', body='wagon', hp=123),\n",
       " Row(make='bmw', body='sedan', hp=182),\n",
       " Row(make='mercedes-benz', body='sedan', hp=123),\n",
       " Row(make='jaguar', body='sedan', hp=176),\n",
       " Row(make='porsche', body='hardtop', hp=207),\n",
       " Row(make='porsche', body='hardtop', hp=207),\n",
       " Row(make='mercedes-benz', body='sedan', hp=155),\n",
       " Row(make='mercedes-benz', body='convertible', hp=155),\n",
       " Row(make='jaguar', body='sedan', hp=176),\n",
       " Row(make='jaguar', body='sedan', hp=262),\n",
       " Row(make='bmw', body='sedan', hp=182),\n",
       " Row(make='porsche', body='convertible', hp=207),\n",
       " Row(make='mercedes-benz', body='sedan', hp=184),\n",
       " Row(make='bmw', body='sedan', hp=182),\n",
       " Row(make='mercedes-benz', body='hardtop', hp=184)]"
      ]
     },
     "execution_count": 13,
     "metadata": {},
     "output_type": "execute_result"
    }
   ],
   "source": [
    "linhasRDD4.collect()"
   ]
  },
  {
   "cell_type": "code",
   "execution_count": 14,
   "id": "ranking-money",
   "metadata": {},
   "outputs": [],
   "source": [
    "# Criando um Dataframe a partirdo RDD\n",
    "\n",
    "linhasDF = spSession.createDataFrame(linhasRDD4)"
   ]
  },
  {
   "cell_type": "code",
   "execution_count": 15,
   "id": "caroline-marriage",
   "metadata": {},
   "outputs": [
    {
     "name": "stdout",
     "output_type": "stream",
     "text": [
      "+----------+---------+---+\n",
      "|      make|     body| hp|\n",
      "+----------+---------+---+\n",
      "|    subaru|hatchback| 69|\n",
      "| chevrolet|hatchback| 48|\n",
      "|     mazda|hatchback| 68|\n",
      "|    toyota|hatchback| 62|\n",
      "|mitsubishi|hatchback| 68|\n",
      "|     honda|hatchback| 60|\n",
      "|    nissan|    sedan| 69|\n",
      "|     dodge|hatchback| 68|\n",
      "|  plymouth|hatchback| 68|\n",
      "|     mazda|hatchback| 68|\n",
      "|mitsubishi|hatchback| 68|\n",
      "|     dodge|hatchback| 68|\n",
      "|  plymouth|hatchback| 68|\n",
      "| chevrolet|hatchback| 70|\n",
      "|    toyota|hatchback| 62|\n",
      "|     dodge|hatchback| 68|\n",
      "|     honda|hatchback| 58|\n",
      "|    toyota|hatchback| 62|\n",
      "|     honda|hatchback| 76|\n",
      "| chevrolet|    sedan| 70|\n",
      "+----------+---------+---+\n",
      "only showing top 20 rows\n",
      "\n"
     ]
    }
   ],
   "source": [
    "linhasDF.show()"
   ]
  },
  {
   "cell_type": "code",
   "execution_count": 16,
   "id": "changing-compression",
   "metadata": {},
   "outputs": [
    {
     "data": {
      "text/plain": [
       "pyspark.sql.dataframe.DataFrame"
      ]
     },
     "execution_count": 16,
     "metadata": {},
     "output_type": "execute_result"
    }
   ],
   "source": [
    "type(linhasDF)"
   ]
  },
  {
   "cell_type": "markdown",
   "id": "advisory-doubt",
   "metadata": {},
   "source": [
    "**Agora podemos aplicar algumas das operações (Similares) usados na linguagem SQL**"
   ]
  },
  {
   "cell_type": "code",
   "execution_count": 17,
   "id": "pending-fiber",
   "metadata": {},
   "outputs": [
    {
     "name": "stdout",
     "output_type": "stream",
     "text": [
      "+----------+---------+---+\n",
      "|      make|     body| hp|\n",
      "+----------+---------+---+\n",
      "|    subaru|hatchback| 69|\n",
      "| chevrolet|hatchback| 48|\n",
      "|     mazda|hatchback| 68|\n",
      "|    toyota|hatchback| 62|\n",
      "|mitsubishi|hatchback| 68|\n",
      "|     honda|hatchback| 60|\n",
      "|    nissan|    sedan| 69|\n",
      "|     dodge|hatchback| 68|\n",
      "|  plymouth|hatchback| 68|\n",
      "|     mazda|hatchback| 68|\n",
      "|mitsubishi|hatchback| 68|\n",
      "|     dodge|hatchback| 68|\n",
      "|  plymouth|hatchback| 68|\n",
      "| chevrolet|hatchback| 70|\n",
      "|    toyota|hatchback| 62|\n",
      "|     dodge|hatchback| 68|\n",
      "|     honda|hatchback| 58|\n",
      "|    toyota|hatchback| 62|\n",
      "|     honda|hatchback| 76|\n",
      "| chevrolet|    sedan| 70|\n",
      "+----------+---------+---+\n",
      "only showing top 20 rows\n",
      "\n"
     ]
    }
   ],
   "source": [
    "linhasDF.select('*').show()"
   ]
  },
  {
   "cell_type": "code",
   "execution_count": 18,
   "id": "appreciated-kazakhstan",
   "metadata": {},
   "outputs": [
    {
     "name": "stdout",
     "output_type": "stream",
     "text": [
      "+-----------+-----------+---+\n",
      "|       make|       body| hp|\n",
      "+-----------+-----------+---+\n",
      "|alfa-romero|  hatchback|154|\n",
      "|alfa-romero|convertible|111|\n",
      "|alfa-romero|convertible|111|\n",
      "|       audi|      sedan|110|\n",
      "|       audi|      sedan|115|\n",
      "|       audi|      sedan|110|\n",
      "|       audi|      wagon|110|\n",
      "|       audi|      sedan|140|\n",
      "|       audi|      sedan|102|\n",
      "|        bmw|      sedan|101|\n",
      "|        bmw|      sedan|101|\n",
      "|        bmw|      sedan|121|\n",
      "|        bmw|      sedan|121|\n",
      "|        bmw|      sedan|182|\n",
      "|        bmw|      sedan|182|\n",
      "|        bmw|      sedan|121|\n",
      "|        bmw|      sedan|182|\n",
      "|  chevrolet|      sedan| 70|\n",
      "|  chevrolet|  hatchback| 70|\n",
      "|  chevrolet|  hatchback| 48|\n",
      "+-----------+-----------+---+\n",
      "only showing top 20 rows\n",
      "\n"
     ]
    }
   ],
   "source": [
    "linhasDF.orderBy('make').show()"
   ]
  },
  {
   "cell_type": "markdown",
   "id": "purple-hierarchy",
   "metadata": {},
   "source": [
    "**Para Usar a linguagem SQL propriamente dito temos que usar o Dataframe como temporario.**"
   ]
  },
  {
   "cell_type": "code",
   "execution_count": 19,
   "id": "ranking-silicon",
   "metadata": {},
   "outputs": [],
   "source": [
    "# Registrando o Datframe como uma Temp Table\n",
    "\n",
    "linhasDF.createOrReplaceTempView('linhasTB')"
   ]
  },
  {
   "cell_type": "code",
   "execution_count": 20,
   "id": "tutorial-ghost",
   "metadata": {},
   "outputs": [
    {
     "name": "stdout",
     "output_type": "stream",
     "text": [
      "+------+---------+---+\n",
      "|  make|     body| hp|\n",
      "+------+---------+---+\n",
      "|nissan|    sedan| 69|\n",
      "|nissan|    sedan| 69|\n",
      "|nissan|    sedan| 69|\n",
      "|nissan|    sedan| 55|\n",
      "|nissan|    sedan| 69|\n",
      "|nissan|    wagon| 69|\n",
      "|nissan|    sedan| 69|\n",
      "|nissan|hatchback| 69|\n",
      "|nissan|    wagon| 69|\n",
      "|nissan|  hardtop| 69|\n",
      "|nissan|hatchback| 97|\n",
      "|nissan|    sedan| 97|\n",
      "|nissan|    sedan|152|\n",
      "|nissan|    sedan|152|\n",
      "|nissan|    wagon|152|\n",
      "|nissan|hatchback|160|\n",
      "|nissan|hatchback|160|\n",
      "|nissan|hatchback|200|\n",
      "+------+---------+---+\n",
      "\n"
     ]
    }
   ],
   "source": [
    "# Executando queries SQL ANST\n",
    "\n",
    "spSession.sql(\"select * from linhasTB where make = 'nissan'\").show()"
   ]
  },
  {
   "cell_type": "code",
   "execution_count": 21,
   "id": "faced-dining",
   "metadata": {},
   "outputs": [
    {
     "name": "stdout",
     "output_type": "stream",
     "text": [
      "+-------------+-----------+-----------------+\n",
      "|         make|       body|          avg(hp)|\n",
      "+-------------+-----------+-----------------+\n",
      "|       nissan|      wagon|96.66666666666667|\n",
      "|       subaru|      sedan|             90.2|\n",
      "|     plymouth|      sedan|             68.0|\n",
      "|        dodge|  hatchback|             90.2|\n",
      "|       nissan|      sedan|             89.0|\n",
      "|        honda|      sedan|             89.8|\n",
      "|   mitsubishi|  hatchback|            105.0|\n",
      "|        mazda|      sedan|82.66666666666667|\n",
      "|  alfa-romero|convertible|            111.0|\n",
      "|mercedes-benz|convertible|            155.0|\n",
      "|     plymouth|      wagon|             88.0|\n",
      "|mercedes-benz|      wagon|            123.0|\n",
      "|        isuzu|  hatchback|             90.0|\n",
      "|       toyota|convertible|            116.0|\n",
      "|        mazda|  hatchback|             89.4|\n",
      "|    chevrolet|      sedan|             70.0|\n",
      "|      mercury|  hatchback|            175.0|\n",
      "|      porsche|  hatchback|            143.0|\n",
      "|        honda|      wagon|             76.0|\n",
      "|      porsche|convertible|            207.0|\n",
      "+-------------+-----------+-----------------+\n",
      "only showing top 20 rows\n",
      "\n"
     ]
    }
   ],
   "source": [
    "# Executando queries SQL ANSI\n",
    "\n",
    "spSession.sql('select make, body, avg(hp) from linhasTB group by make, body').show()"
   ]
  }
 ],
 "metadata": {
  "kernelspec": {
   "display_name": "Python 3",
   "language": "python",
   "name": "python3"
  },
  "language_info": {
   "codemirror_mode": {
    "name": "ipython",
    "version": 3
   },
   "file_extension": ".py",
   "mimetype": "text/x-python",
   "name": "python",
   "nbconvert_exporter": "python",
   "pygments_lexer": "ipython3",
   "version": "3.7.6"
  }
 },
 "nbformat": 4,
 "nbformat_minor": 5
}
