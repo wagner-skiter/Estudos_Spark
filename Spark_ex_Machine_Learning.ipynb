{
 "cells": [
  {
   "cell_type": "markdown",
   "id": "developing-chicago",
   "metadata": {},
   "source": [
    "# Exemplo de aplicação de Machine Learning Utilizando o Spark"
   ]
  },
  {
   "cell_type": "markdown",
   "id": "minimal-induction",
   "metadata": {},
   "source": [
    "### O objetivo desse estudo é mostrar a difirença entre o Spark dataframe e o RDD aplicando Machine Learning"
   ]
  },
  {
   "cell_type": "code",
   "execution_count": 1,
   "id": "fitted-diagnosis",
   "metadata": {},
   "outputs": [
    {
     "data": {
      "text/plain": [
       "'C:\\\\opt\\\\spark\\\\spark-3.1.1-bin-hadoop2.7'"
      ]
     },
     "execution_count": 1,
     "metadata": {},
     "output_type": "execute_result"
    }
   ],
   "source": [
    "import os\n",
    "import findspark\n",
    "findspark.init()\n",
    "findspark.find()\n",
    "import pyspark\n",
    "findspark.find()"
   ]
  },
  {
   "cell_type": "code",
   "execution_count": 2,
   "id": "dynamic-badge",
   "metadata": {},
   "outputs": [],
   "source": [
    "from pyspark import SparkContext, SparkConf\n",
    "from pyspark.sql import SparkSession\n",
    "from pyspark.rdd import RDD\n",
    "from pyspark.sql import SparkSession\n",
    "from pyspark.sql import SQLContext\n",
    "from pyspark.sql import Row\n",
    "\n",
    "conf = pyspark.SparkConf().setAppName('SparkApp').setMaster('local[*]')\n",
    "sc = pyspark.SparkContext(conf=conf)\n",
    "spark = SparkSession(sc)\n",
    "sc._conf.get('spark.driver.memory')"
   ]
  },
  {
   "cell_type": "code",
   "execution_count": 3,
   "id": "structural-humanity",
   "metadata": {},
   "outputs": [],
   "source": [
    "# Spark Session - usando quando se trabalha com Dataframes no Spark\n",
    "\n",
    "spSession = SparkSession.builder.master('local').appName('DSA-SparkSQL').config('spark.some.config.option', 'some-value').getOrCreate()"
   ]
  },
  {
   "cell_type": "code",
   "execution_count": 4,
   "id": "expanded-correlation",
   "metadata": {},
   "outputs": [
    {
     "data": {
      "text/plain": [
       "C:/Users/skite/OneDrive/Documentos/GitHub/Spark/carros.csv MapPartitionsRDD[1] at textFile at NativeMethodAccessorImpl.java:0"
      ]
     },
     "execution_count": 4,
     "metadata": {},
     "output_type": "execute_result"
    }
   ],
   "source": [
    "# Carregando o arquivo CSV e mantendo o objeto em cache\n",
    "\n",
    "carros = sc.textFile('C:/Users/skite/OneDrive/Documentos/GitHub/Spark/carros.csv')\n",
    "carros.cache()"
   ]
  },
  {
   "cell_type": "code",
   "execution_count": 5,
   "id": "spiritual-illustration",
   "metadata": {},
   "outputs": [],
   "source": [
    "# Removendo a primeira linha (header)\n",
    "\n",
    "primeiraLinha = carros.first()\n",
    "linhas = carros.filter(lambda x: x != primeiraLinha)"
   ]
  },
  {
   "cell_type": "code",
   "execution_count": 6,
   "id": "adapted-toilet",
   "metadata": {},
   "outputs": [
    {
     "data": {
      "text/plain": [
       "197"
      ]
     },
     "execution_count": 6,
     "metadata": {},
     "output_type": "execute_result"
    }
   ],
   "source": [
    "linhas.count()"
   ]
  },
  {
   "cell_type": "code",
   "execution_count": 7,
   "id": "sorted-programmer",
   "metadata": {},
   "outputs": [],
   "source": [
    "# Importando função row e função vectors\n",
    "\n",
    "from pyspark.sql import Row\n",
    "from pyspark.ml.linalg import Vectors\n",
    "import math"
   ]
  },
  {
   "cell_type": "code",
   "execution_count": 8,
   "id": "champion-avenue",
   "metadata": {},
   "outputs": [],
   "source": [
    "# Convertendo para vetor de linhas\n",
    "\n",
    "def transformToNumeric(inputStr):\n",
    "    attList = inputStr.split(',')\n",
    "    doors = 1.0 if attList[3] == 'two' else 2.0\n",
    "    body = 1.0 if attList[4] == 'sedan' else 2.0\n",
    "    \n",
    "    # Filtrando colunas não necessárias nesta etapa\n",
    "    valores = Row(DOORS = doors, BODY = float(body), HP = float(attList[7]), RPM = float(attList[8]), MPG = float(attList[9]))\n",
    "    return valores"
   ]
  },
  {
   "cell_type": "code",
   "execution_count": 9,
   "id": "enclosed-amount",
   "metadata": {
    "collapsed": true,
    "jupyter": {
     "outputs_hidden": true
    }
   },
   "outputs": [
    {
     "data": {
      "text/plain": [
       "[Row(DOORS=1.0, BODY=2.0, HP=69.0, RPM=4900.0, MPG=31.0),\n",
       " Row(DOORS=1.0, BODY=2.0, HP=48.0, RPM=5100.0, MPG=47.0),\n",
       " Row(DOORS=1.0, BODY=2.0, HP=68.0, RPM=5000.0, MPG=30.0),\n",
       " Row(DOORS=1.0, BODY=2.0, HP=62.0, RPM=4800.0, MPG=35.0),\n",
       " Row(DOORS=1.0, BODY=2.0, HP=68.0, RPM=5500.0, MPG=37.0),\n",
       " Row(DOORS=1.0, BODY=2.0, HP=60.0, RPM=5500.0, MPG=38.0),\n",
       " Row(DOORS=1.0, BODY=1.0, HP=69.0, RPM=5200.0, MPG=31.0),\n",
       " Row(DOORS=1.0, BODY=2.0, HP=68.0, RPM=5500.0, MPG=37.0),\n",
       " Row(DOORS=1.0, BODY=2.0, HP=68.0, RPM=5500.0, MPG=37.0),\n",
       " Row(DOORS=1.0, BODY=2.0, HP=68.0, RPM=5000.0, MPG=31.0),\n",
       " Row(DOORS=1.0, BODY=2.0, HP=68.0, RPM=5500.0, MPG=31.0),\n",
       " Row(DOORS=2.0, BODY=2.0, HP=68.0, RPM=5500.0, MPG=31.0),\n",
       " Row(DOORS=2.0, BODY=2.0, HP=68.0, RPM=5500.0, MPG=31.0),\n",
       " Row(DOORS=1.0, BODY=2.0, HP=70.0, RPM=5400.0, MPG=38.0),\n",
       " Row(DOORS=1.0, BODY=2.0, HP=62.0, RPM=4800.0, MPG=31.0),\n",
       " Row(DOORS=1.0, BODY=2.0, HP=68.0, RPM=5500.0, MPG=31.0),\n",
       " Row(DOORS=1.0, BODY=2.0, HP=58.0, RPM=4800.0, MPG=49.0),\n",
       " Row(DOORS=2.0, BODY=2.0, HP=62.0, RPM=4800.0, MPG=31.0),\n",
       " Row(DOORS=1.0, BODY=2.0, HP=76.0, RPM=6000.0, MPG=30.0),\n",
       " Row(DOORS=2.0, BODY=1.0, HP=70.0, RPM=5400.0, MPG=38.0),\n",
       " Row(DOORS=1.0, BODY=1.0, HP=69.0, RPM=5200.0, MPG=31.0),\n",
       " Row(DOORS=1.0, BODY=2.0, HP=68.0, RPM=5500.0, MPG=31.0),\n",
       " Row(DOORS=2.0, BODY=1.0, HP=68.0, RPM=5500.0, MPG=31.0),\n",
       " Row(DOORS=2.0, BODY=1.0, HP=68.0, RPM=5500.0, MPG=31.0),\n",
       " Row(DOORS=2.0, BODY=1.0, HP=68.0, RPM=5000.0, MPG=31.0),\n",
       " Row(DOORS=2.0, BODY=1.0, HP=78.0, RPM=4800.0, MPG=24.0),\n",
       " Row(DOORS=1.0, BODY=2.0, HP=68.0, RPM=5000.0, MPG=31.0),\n",
       " Row(DOORS=2.0, BODY=1.0, HP=69.0, RPM=5200.0, MPG=31.0),\n",
       " Row(DOORS=1.0, BODY=2.0, HP=76.0, RPM=6000.0, MPG=31.0),\n",
       " Row(DOORS=2.0, BODY=2.0, HP=62.0, RPM=4800.0, MPG=31.0),\n",
       " Row(DOORS=2.0, BODY=1.0, HP=70.0, RPM=4800.0, MPG=30.0),\n",
       " Row(DOORS=2.0, BODY=1.0, HP=88.0, RPM=5000.0, MPG=25.0),\n",
       " Row(DOORS=1.0, BODY=2.0, HP=73.0, RPM=4400.0, MPG=26.0),\n",
       " Row(DOORS=1.0, BODY=1.0, HP=55.0, RPM=4800.0, MPG=45.0),\n",
       " Row(DOORS=2.0, BODY=1.0, HP=82.0, RPM=4800.0, MPG=32.0),\n",
       " Row(DOORS=1.0, BODY=2.0, HP=76.0, RPM=6000.0, MPG=30.0),\n",
       " Row(DOORS=2.0, BODY=2.0, HP=70.0, RPM=4800.0, MPG=30.0),\n",
       " Row(DOORS=2.0, BODY=1.0, HP=76.0, RPM=6000.0, MPG=30.0),\n",
       " Row(DOORS=2.0, BODY=2.0, HP=76.0, RPM=6000.0, MPG=30.0),\n",
       " Row(DOORS=1.0, BODY=1.0, HP=69.0, RPM=5200.0, MPG=31.0),\n",
       " Row(DOORS=2.0, BODY=2.0, HP=69.0, RPM=5200.0, MPG=31.0),\n",
       " Row(DOORS=2.0, BODY=1.0, HP=68.0, RPM=5000.0, MPG=31.0),\n",
       " Row(DOORS=2.0, BODY=2.0, HP=82.0, RPM=4800.0, MPG=28.0),\n",
       " Row(DOORS=2.0, BODY=1.0, HP=69.0, RPM=5200.0, MPG=31.0),\n",
       " Row(DOORS=1.0, BODY=2.0, HP=73.0, RPM=4400.0, MPG=26.0),\n",
       " Row(DOORS=2.0, BODY=1.0, HP=68.0, RPM=5500.0, MPG=31.0),\n",
       " Row(DOORS=2.0, BODY=1.0, HP=68.0, RPM=5500.0, MPG=31.0),\n",
       " Row(DOORS=1.0, BODY=2.0, HP=102.0, RPM=5500.0, MPG=24.0),\n",
       " Row(DOORS=2.0, BODY=1.0, HP=70.0, RPM=4800.0, MPG=38.0),\n",
       " Row(DOORS=2.0, BODY=1.0, HP=82.0, RPM=4400.0, MPG=28.0),\n",
       " Row(DOORS=1.0, BODY=1.0, HP=52.0, RPM=4800.0, MPG=37.0),\n",
       " Row(DOORS=2.0, BODY=2.0, HP=56.0, RPM=4500.0, MPG=38.0),\n",
       " Row(DOORS=1.0, BODY=2.0, HP=69.0, RPM=5200.0, MPG=31.0),\n",
       " Row(DOORS=1.0, BODY=2.0, HP=86.0, RPM=5800.0, MPG=27.0),\n",
       " Row(DOORS=2.0, BODY=2.0, HP=62.0, RPM=4800.0, MPG=27.0),\n",
       " Row(DOORS=2.0, BODY=1.0, HP=56.0, RPM=4500.0, MPG=34.0),\n",
       " Row(DOORS=1.0, BODY=2.0, HP=102.0, RPM=5500.0, MPG=24.0),\n",
       " Row(DOORS=1.0, BODY=2.0, HP=102.0, RPM=5500.0, MPG=24.0),\n",
       " Row(DOORS=1.0, BODY=1.0, HP=85.0, RPM=5250.0, MPG=27.0),\n",
       " Row(DOORS=2.0, BODY=1.0, HP=52.0, RPM=4800.0, MPG=37.0),\n",
       " Row(DOORS=2.0, BODY=2.0, HP=69.0, RPM=5200.0, MPG=31.0),\n",
       " Row(DOORS=2.0, BODY=2.0, HP=82.0, RPM=4800.0, MPG=23.0),\n",
       " Row(DOORS=1.0, BODY=1.0, HP=70.0, RPM=4800.0, MPG=29.0),\n",
       " Row(DOORS=2.0, BODY=1.0, HP=88.0, RPM=5000.0, MPG=25.0),\n",
       " Row(DOORS=2.0, BODY=1.0, HP=85.0, RPM=5250.0, MPG=27.0),\n",
       " Row(DOORS=1.0, BODY=2.0, HP=70.0, RPM=4800.0, MPG=29.0),\n",
       " Row(DOORS=1.0, BODY=2.0, HP=69.0, RPM=5200.0, MPG=31.0),\n",
       " Row(DOORS=2.0, BODY=2.0, HP=70.0, RPM=4800.0, MPG=28.0),\n",
       " Row(DOORS=1.0, BODY=2.0, HP=116.0, RPM=4800.0, MPG=24.0),\n",
       " Row(DOORS=2.0, BODY=1.0, HP=84.0, RPM=4800.0, MPG=26.0),\n",
       " Row(DOORS=2.0, BODY=1.0, HP=85.0, RPM=5250.0, MPG=27.0),\n",
       " Row(DOORS=1.0, BODY=2.0, HP=88.0, RPM=5000.0, MPG=25.0),\n",
       " Row(DOORS=2.0, BODY=2.0, HP=62.0, RPM=4800.0, MPG=27.0),\n",
       " Row(DOORS=2.0, BODY=1.0, HP=86.0, RPM=5800.0, MPG=27.0),\n",
       " Row(DOORS=1.0, BODY=2.0, HP=84.0, RPM=4800.0, MPG=26.0),\n",
       " Row(DOORS=2.0, BODY=2.0, HP=88.0, RPM=5000.0, MPG=24.0),\n",
       " Row(DOORS=2.0, BODY=2.0, HP=88.0, RPM=5000.0, MPG=24.0),\n",
       " Row(DOORS=2.0, BODY=1.0, HP=92.0, RPM=4200.0, MPG=29.0),\n",
       " Row(DOORS=2.0, BODY=2.0, HP=97.0, RPM=5200.0, MPG=27.0),\n",
       " Row(DOORS=1.0, BODY=2.0, HP=86.0, RPM=5800.0, MPG=27.0),\n",
       " Row(DOORS=2.0, BODY=1.0, HP=82.0, RPM=4800.0, MPG=24.0),\n",
       " Row(DOORS=2.0, BODY=1.0, HP=70.0, RPM=4800.0, MPG=28.0),\n",
       " Row(DOORS=2.0, BODY=1.0, HP=116.0, RPM=5500.0, MPG=23.0),\n",
       " Row(DOORS=2.0, BODY=1.0, HP=116.0, RPM=5500.0, MPG=23.0),\n",
       " Row(DOORS=1.0, BODY=1.0, HP=112.0, RPM=6600.0, MPG=26.0),\n",
       " Row(DOORS=2.0, BODY=1.0, HP=68.0, RPM=4500.0, MPG=37.0),\n",
       " Row(DOORS=1.0, BODY=2.0, HP=112.0, RPM=6600.0, MPG=26.0),\n",
       " Row(DOORS=2.0, BODY=1.0, HP=97.0, RPM=5200.0, MPG=27.0),\n",
       " Row(DOORS=1.0, BODY=2.0, HP=116.0, RPM=4800.0, MPG=24.0),\n",
       " Row(DOORS=1.0, BODY=2.0, HP=116.0, RPM=5500.0, MPG=23.0),\n",
       " Row(DOORS=2.0, BODY=1.0, HP=94.0, RPM=5200.0, MPG=26.0),\n",
       " Row(DOORS=1.0, BODY=2.0, HP=90.0, RPM=5500.0, MPG=24.0),\n",
       " Row(DOORS=2.0, BODY=2.0, HP=92.0, RPM=4200.0, MPG=27.0),\n",
       " Row(DOORS=1.0, BODY=2.0, HP=116.0, RPM=4800.0, MPG=24.0),\n",
       " Row(DOORS=2.0, BODY=1.0, HP=100.0, RPM=5500.0, MPG=26.0),\n",
       " Row(DOORS=2.0, BODY=2.0, HP=94.0, RPM=5200.0, MPG=25.0),\n",
       " Row(DOORS=2.0, BODY=1.0, HP=84.0, RPM=4800.0, MPG=26.0),\n",
       " Row(DOORS=2.0, BODY=1.0, HP=86.0, RPM=5800.0, MPG=27.0),\n",
       " Row(DOORS=1.0, BODY=1.0, HP=100.0, RPM=5500.0, MPG=25.0),\n",
       " Row(DOORS=1.0, BODY=2.0, HP=84.0, RPM=4800.0, MPG=26.0),\n",
       " Row(DOORS=2.0, BODY=1.0, HP=73.0, RPM=4500.0, MPG=30.0),\n",
       " Row(DOORS=2.0, BODY=1.0, HP=92.0, RPM=4200.0, MPG=27.0),\n",
       " Row(DOORS=1.0, BODY=2.0, HP=101.0, RPM=6000.0, MPG=17.0),\n",
       " Row(DOORS=1.0, BODY=2.0, HP=90.0, RPM=5000.0, MPG=24.0),\n",
       " Row(DOORS=1.0, BODY=2.0, HP=116.0, RPM=4800.0, MPG=24.0),\n",
       " Row(DOORS=2.0, BODY=2.0, HP=84.0, RPM=4800.0, MPG=26.0),\n",
       " Row(DOORS=2.0, BODY=2.0, HP=92.0, RPM=4200.0, MPG=27.0),\n",
       " Row(DOORS=2.0, BODY=1.0, HP=111.0, RPM=4800.0, MPG=24.0),\n",
       " Row(DOORS=1.0, BODY=2.0, HP=116.0, RPM=4800.0, MPG=24.0),\n",
       " Row(DOORS=1.0, BODY=2.0, HP=90.0, RPM=5500.0, MPG=24.0),\n",
       " Row(DOORS=2.0, BODY=2.0, HP=111.0, RPM=4800.0, MPG=23.0),\n",
       " Row(DOORS=1.0, BODY=2.0, HP=101.0, RPM=6000.0, MPG=17.0),\n",
       " Row(DOORS=1.0, BODY=2.0, HP=110.0, RPM=5250.0, MPG=21.0),\n",
       " Row(DOORS=2.0, BODY=1.0, HP=97.0, RPM=5000.0, MPG=19.0),\n",
       " Row(DOORS=2.0, BODY=1.0, HP=110.0, RPM=5250.0, MPG=21.0),\n",
       " Row(DOORS=2.0, BODY=2.0, HP=88.0, RPM=5500.0, MPG=25.0),\n",
       " Row(DOORS=2.0, BODY=2.0, HP=97.0, RPM=5000.0, MPG=19.0),\n",
       " Row(DOORS=1.0, BODY=2.0, HP=145.0, RPM=5000.0, MPG=19.0),\n",
       " Row(DOORS=1.0, BODY=2.0, HP=145.0, RPM=5000.0, MPG=19.0),\n",
       " Row(DOORS=2.0, BODY=1.0, HP=114.0, RPM=5400.0, MPG=23.0),\n",
       " Row(DOORS=2.0, BODY=1.0, HP=101.0, RPM=5800.0, MPG=24.0),\n",
       " Row(DOORS=1.0, BODY=2.0, HP=145.0, RPM=5000.0, MPG=19.0),\n",
       " Row(DOORS=2.0, BODY=1.0, HP=95.0, RPM=4150.0, MPG=28.0),\n",
       " Row(DOORS=2.0, BODY=1.0, HP=110.0, RPM=5500.0, MPG=19.0),\n",
       " Row(DOORS=2.0, BODY=2.0, HP=114.0, RPM=5400.0, MPG=23.0),\n",
       " Row(DOORS=1.0, BODY=2.0, HP=111.0, RPM=5000.0, MPG=21.0),\n",
       " Row(DOORS=2.0, BODY=1.0, HP=152.0, RPM=5200.0, MPG=17.0),\n",
       " Row(DOORS=2.0, BODY=1.0, HP=152.0, RPM=5200.0, MPG=19.0),\n",
       " Row(DOORS=1.0, BODY=2.0, HP=101.0, RPM=6000.0, MPG=17.0),\n",
       " Row(DOORS=2.0, BODY=1.0, HP=68.0, RPM=4500.0, MPG=33.0),\n",
       " Row(DOORS=2.0, BODY=2.0, HP=95.0, RPM=4150.0, MPG=25.0),\n",
       " Row(DOORS=2.0, BODY=1.0, HP=102.0, RPM=5500.0, MPG=24.0),\n",
       " Row(DOORS=2.0, BODY=2.0, HP=152.0, RPM=5200.0, MPG=17.0),\n",
       " Row(DOORS=1.0, BODY=2.0, HP=145.0, RPM=5000.0, MPG=19.0),\n",
       " Row(DOORS=1.0, BODY=2.0, HP=145.0, RPM=5000.0, MPG=19.0),\n",
       " Row(DOORS=1.0, BODY=2.0, HP=110.0, RPM=5250.0, MPG=21.0),\n",
       " Row(DOORS=1.0, BODY=1.0, HP=110.0, RPM=5500.0, MPG=19.0),\n",
       " Row(DOORS=2.0, BODY=1.0, HP=110.0, RPM=5250.0, MPG=21.0),\n",
       " Row(DOORS=2.0, BODY=1.0, HP=95.0, RPM=5000.0, MPG=19.0),\n",
       " Row(DOORS=1.0, BODY=2.0, HP=135.0, RPM=6000.0, MPG=16.0),\n",
       " Row(DOORS=2.0, BODY=1.0, HP=156.0, RPM=5200.0, MPG=20.0),\n",
       " Row(DOORS=2.0, BODY=2.0, HP=156.0, RPM=5200.0, MPG=19.0),\n",
       " Row(DOORS=2.0, BODY=1.0, HP=114.0, RPM=5400.0, MPG=24.0),\n",
       " Row(DOORS=1.0, BODY=2.0, HP=161.0, RPM=5200.0, MPG=19.0),\n",
       " Row(DOORS=1.0, BODY=1.0, HP=101.0, RPM=5800.0, MPG=23.0),\n",
       " Row(DOORS=1.0, BODY=2.0, HP=111.0, RPM=5000.0, MPG=21.0),\n",
       " Row(DOORS=1.0, BODY=2.0, HP=154.0, RPM=5000.0, MPG=19.0),\n",
       " Row(DOORS=1.0, BODY=2.0, HP=175.0, RPM=5000.0, MPG=19.0),\n",
       " Row(DOORS=2.0, BODY=2.0, HP=114.0, RPM=5400.0, MPG=24.0),\n",
       " Row(DOORS=1.0, BODY=2.0, HP=161.0, RPM=5200.0, MPG=20.0),\n",
       " Row(DOORS=2.0, BODY=1.0, HP=97.0, RPM=5000.0, MPG=19.0),\n",
       " Row(DOORS=2.0, BODY=2.0, HP=95.0, RPM=5000.0, MPG=19.0),\n",
       " Row(DOORS=2.0, BODY=1.0, HP=114.0, RPM=5400.0, MPG=23.0),\n",
       " Row(DOORS=2.0, BODY=1.0, HP=95.0, RPM=4150.0, MPG=28.0),\n",
       " Row(DOORS=2.0, BODY=1.0, HP=101.0, RPM=5800.0, MPG=23.0),\n",
       " Row(DOORS=2.0, BODY=2.0, HP=95.0, RPM=4150.0, MPG=25.0),\n",
       " Row(DOORS=1.0, BODY=2.0, HP=160.0, RPM=5200.0, MPG=19.0),\n",
       " Row(DOORS=2.0, BODY=1.0, HP=115.0, RPM=5500.0, MPG=18.0),\n",
       " Row(DOORS=1.0, BODY=2.0, HP=116.0, RPM=4800.0, MPG=24.0),\n",
       " Row(DOORS=2.0, BODY=1.0, HP=110.0, RPM=5500.0, MPG=19.0),\n",
       " Row(DOORS=2.0, BODY=1.0, HP=95.0, RPM=4150.0, MPG=28.0),\n",
       " Row(DOORS=2.0, BODY=1.0, HP=142.0, RPM=5600.0, MPG=18.0),\n",
       " Row(DOORS=1.0, BODY=2.0, HP=160.0, RPM=5500.0, MPG=19.0),\n",
       " Row(DOORS=2.0, BODY=1.0, HP=120.0, RPM=5000.0, MPG=19.0),\n",
       " Row(DOORS=2.0, BODY=1.0, HP=72.0, RPM=4200.0, MPG=31.0),\n",
       " Row(DOORS=1.0, BODY=2.0, HP=160.0, RPM=5200.0, MPG=19.0),\n",
       " Row(DOORS=2.0, BODY=1.0, HP=162.0, RPM=5100.0, MPG=17.0),\n",
       " Row(DOORS=2.0, BODY=1.0, HP=160.0, RPM=5500.0, MPG=19.0),\n",
       " Row(DOORS=2.0, BODY=2.0, HP=110.0, RPM=5500.0, MPG=19.0),\n",
       " Row(DOORS=2.0, BODY=2.0, HP=162.0, RPM=5100.0, MPG=17.0),\n",
       " Row(DOORS=2.0, BODY=1.0, HP=160.0, RPM=5300.0, MPG=19.0),\n",
       " Row(DOORS=1.0, BODY=2.0, HP=200.0, RPM=5200.0, MPG=17.0),\n",
       " Row(DOORS=1.0, BODY=1.0, HP=121.0, RPM=4250.0, MPG=21.0),\n",
       " Row(DOORS=2.0, BODY=1.0, HP=121.0, RPM=4250.0, MPG=21.0),\n",
       " Row(DOORS=2.0, BODY=1.0, HP=134.0, RPM=5500.0, MPG=18.0),\n",
       " Row(DOORS=1.0, BODY=2.0, HP=143.0, RPM=5500.0, MPG=19.0),\n",
       " Row(DOORS=2.0, BODY=1.0, HP=106.0, RPM=4800.0, MPG=26.0),\n",
       " Row(DOORS=2.0, BODY=1.0, HP=114.0, RPM=5400.0, MPG=19.0),\n",
       " Row(DOORS=2.0, BODY=1.0, HP=140.0, RPM=5500.0, MPG=17.0),\n",
       " Row(DOORS=2.0, BODY=1.0, HP=121.0, RPM=4250.0, MPG=20.0),\n",
       " Row(DOORS=2.0, BODY=1.0, HP=123.0, RPM=4350.0, MPG=22.0),\n",
       " Row(DOORS=1.0, BODY=2.0, HP=123.0, RPM=4350.0, MPG=22.0),\n",
       " Row(DOORS=2.0, BODY=2.0, HP=123.0, RPM=4350.0, MPG=22.0),\n",
       " Row(DOORS=2.0, BODY=1.0, HP=182.0, RPM=5400.0, MPG=16.0),\n",
       " Row(DOORS=2.0, BODY=1.0, HP=123.0, RPM=4350.0, MPG=22.0),\n",
       " Row(DOORS=2.0, BODY=1.0, HP=176.0, RPM=4750.0, MPG=15.0),\n",
       " Row(DOORS=1.0, BODY=2.0, HP=207.0, RPM=5900.0, MPG=17.0),\n",
       " Row(DOORS=1.0, BODY=2.0, HP=207.0, RPM=5900.0, MPG=17.0),\n",
       " Row(DOORS=2.0, BODY=1.0, HP=155.0, RPM=4750.0, MPG=16.0),\n",
       " Row(DOORS=1.0, BODY=2.0, HP=155.0, RPM=4750.0, MPG=16.0),\n",
       " Row(DOORS=2.0, BODY=1.0, HP=176.0, RPM=4750.0, MPG=15.0),\n",
       " Row(DOORS=1.0, BODY=1.0, HP=262.0, RPM=5000.0, MPG=13.0),\n",
       " Row(DOORS=2.0, BODY=1.0, HP=182.0, RPM=5400.0, MPG=15.0),\n",
       " Row(DOORS=1.0, BODY=2.0, HP=207.0, RPM=5900.0, MPG=17.0),\n",
       " Row(DOORS=2.0, BODY=1.0, HP=184.0, RPM=4500.0, MPG=14.0),\n",
       " Row(DOORS=1.0, BODY=1.0, HP=182.0, RPM=5400.0, MPG=16.0),\n",
       " Row(DOORS=1.0, BODY=2.0, HP=184.0, RPM=4500.0, MPG=14.0)]"
      ]
     },
     "execution_count": 9,
     "metadata": {},
     "output_type": "execute_result"
    }
   ],
   "source": [
    "autoMap = linhas.map(transformToNumeric)\n",
    "autoMap.persist()\n",
    "autoMap.collect()"
   ]
  },
  {
   "cell_type": "code",
   "execution_count": 10,
   "id": "altered-hungary",
   "metadata": {},
   "outputs": [
    {
     "name": "stdout",
     "output_type": "stream",
     "text": [
      "+-----+----+----+------+----+\n",
      "|DOORS|BODY|  HP|   RPM| MPG|\n",
      "+-----+----+----+------+----+\n",
      "|  1.0| 2.0|69.0|4900.0|31.0|\n",
      "|  1.0| 2.0|48.0|5100.0|47.0|\n",
      "|  1.0| 2.0|68.0|5000.0|30.0|\n",
      "|  1.0| 2.0|62.0|4800.0|35.0|\n",
      "|  1.0| 2.0|68.0|5500.0|37.0|\n",
      "|  1.0| 2.0|60.0|5500.0|38.0|\n",
      "|  1.0| 1.0|69.0|5200.0|31.0|\n",
      "|  1.0| 2.0|68.0|5500.0|37.0|\n",
      "|  1.0| 2.0|68.0|5500.0|37.0|\n",
      "|  1.0| 2.0|68.0|5000.0|31.0|\n",
      "|  1.0| 2.0|68.0|5500.0|31.0|\n",
      "|  2.0| 2.0|68.0|5500.0|31.0|\n",
      "|  2.0| 2.0|68.0|5500.0|31.0|\n",
      "|  1.0| 2.0|70.0|5400.0|38.0|\n",
      "|  1.0| 2.0|62.0|4800.0|31.0|\n",
      "|  1.0| 2.0|68.0|5500.0|31.0|\n",
      "|  1.0| 2.0|58.0|4800.0|49.0|\n",
      "|  2.0| 2.0|62.0|4800.0|31.0|\n",
      "|  1.0| 2.0|76.0|6000.0|30.0|\n",
      "|  2.0| 1.0|70.0|5400.0|38.0|\n",
      "+-----+----+----+------+----+\n",
      "only showing top 20 rows\n",
      "\n"
     ]
    }
   ],
   "source": [
    "# Craindo o Dataframe a partir de uma RDD\n",
    "\n",
    "carrosDf = spSession.createDataFrame(autoMap)\n",
    "carrosDf.show()"
   ]
  },
  {
   "cell_type": "code",
   "execution_count": 11,
   "id": "electoral-scanner",
   "metadata": {},
   "outputs": [],
   "source": [
    "# Aplicando técnicas de normalização e escala\n",
    "\n",
    "summStats = carrosDf.describe().toPandas()\n",
    "medias = summStats.iloc[1,1:5].values.tolist()\n",
    "desvios_padroes = summStats.iloc[2,1:5].values.tolist()"
   ]
  },
  {
   "cell_type": "code",
   "execution_count": 12,
   "id": "outer-fight",
   "metadata": {},
   "outputs": [],
   "source": [
    "# Inserindo a média e o desvio padrão em uma variável do tipo Broadcast\n",
    "\n",
    "bcMedias = sc.broadcast(medias)\n",
    "bcDesviosP = sc.broadcast(desvios_padroes)"
   ]
  },
  {
   "cell_type": "code",
   "execution_count": 13,
   "id": "informative-louisiana",
   "metadata": {},
   "outputs": [],
   "source": [
    "# Agora vamos fazer uma função qe irá padronizar os nossos dados\n",
    "\n",
    "def centerAndScale(inRow):\n",
    "    global bcMedias\n",
    "    global bcDesviosP\n",
    "    \n",
    "    meanArray = bcMedias.value\n",
    "    stdArray = bcDesviosP.value\n",
    "    \n",
    "    retArray = []\n",
    "    for i in range(len(meanArray)):\n",
    "        retArray.append((float(inRow[i])-float(meanArray[i])) / float(stdArray[i]))\n",
    "    return Vectors.dense(retArray)"
   ]
  },
  {
   "cell_type": "code",
   "execution_count": 14,
   "id": "former-montana",
   "metadata": {
    "collapsed": true,
    "jupyter": {
     "outputs_hidden": true
    }
   },
   "outputs": [
    {
     "data": {
      "text/plain": [
       "[DenseVector([-1.145, 0.9337, -0.9194, -0.4532]),\n",
       " DenseVector([-1.145, 0.9337, -1.4773, -0.0375]),\n",
       " DenseVector([-1.145, 0.9337, -0.9459, -0.2453]),\n",
       " DenseVector([-1.145, 0.9337, -1.1053, -0.6611]),\n",
       " DenseVector([-1.145, 0.9337, -0.9459, 0.7941]),\n",
       " DenseVector([-1.145, 0.9337, -1.1585, 0.7941]),\n",
       " DenseVector([-1.145, -1.0656, -0.9194, 0.1704]),\n",
       " DenseVector([-1.145, 0.9337, -0.9459, 0.7941]),\n",
       " DenseVector([-1.145, 0.9337, -0.9459, 0.7941]),\n",
       " DenseVector([-1.145, 0.9337, -0.9459, -0.2453]),\n",
       " DenseVector([-1.145, 0.9337, -0.9459, 0.7941]),\n",
       " DenseVector([0.869, 0.9337, -0.9459, 0.7941]),\n",
       " DenseVector([0.869, 0.9337, -0.9459, 0.7941]),\n",
       " DenseVector([-1.145, 0.9337, -0.8928, 0.5862]),\n",
       " DenseVector([-1.145, 0.9337, -1.1053, -0.6611]),\n",
       " DenseVector([-1.145, 0.9337, -0.9459, 0.7941]),\n",
       " DenseVector([-1.145, 0.9337, -1.2116, -0.6611]),\n",
       " DenseVector([0.869, 0.9337, -1.1053, -0.6611]),\n",
       " DenseVector([-1.145, 0.9337, -0.7334, 1.8335]),\n",
       " DenseVector([0.869, -1.0656, -0.8928, 0.5862]),\n",
       " DenseVector([-1.145, -1.0656, -0.9194, 0.1704]),\n",
       " DenseVector([-1.145, 0.9337, -0.9459, 0.7941]),\n",
       " DenseVector([0.869, -1.0656, -0.9459, 0.7941]),\n",
       " DenseVector([0.869, -1.0656, -0.9459, 0.7941]),\n",
       " DenseVector([0.869, -1.0656, -0.9459, -0.2453]),\n",
       " DenseVector([0.869, -1.0656, -0.6802, -0.6611]),\n",
       " DenseVector([-1.145, 0.9337, -0.9459, -0.2453]),\n",
       " DenseVector([0.869, -1.0656, -0.9194, 0.1704]),\n",
       " DenseVector([-1.145, 0.9337, -0.7334, 1.8335]),\n",
       " DenseVector([0.869, 0.9337, -1.1053, -0.6611]),\n",
       " DenseVector([0.869, -1.0656, -0.8928, -0.6611]),\n",
       " DenseVector([0.869, -1.0656, -0.4146, -0.2453]),\n",
       " DenseVector([-1.145, 0.9337, -0.8131, -1.4927]),\n",
       " DenseVector([-1.145, -1.0656, -1.2913, -0.6611]),\n",
       " DenseVector([0.869, -1.0656, -0.574, -0.6611]),\n",
       " DenseVector([-1.145, 0.9337, -0.7334, 1.8335]),\n",
       " DenseVector([0.869, 0.9337, -0.8928, -0.6611]),\n",
       " DenseVector([0.869, -1.0656, -0.7334, 1.8335]),\n",
       " DenseVector([0.869, 0.9337, -0.7334, 1.8335]),\n",
       " DenseVector([-1.145, -1.0656, -0.9194, 0.1704]),\n",
       " DenseVector([0.869, 0.9337, -0.9194, 0.1704]),\n",
       " DenseVector([0.869, -1.0656, -0.9459, -0.2453]),\n",
       " DenseVector([0.869, 0.9337, -0.574, -0.6611]),\n",
       " DenseVector([0.869, -1.0656, -0.9194, 0.1704]),\n",
       " DenseVector([-1.145, 0.9337, -0.8131, -1.4927]),\n",
       " DenseVector([0.869, -1.0656, -0.9459, 0.7941]),\n",
       " DenseVector([0.869, -1.0656, -0.9459, 0.7941]),\n",
       " DenseVector([-1.145, 0.9337, -0.0426, 0.7941]),\n",
       " DenseVector([0.869, -1.0656, -0.8928, -0.6611]),\n",
       " DenseVector([0.869, -1.0656, -0.574, -1.4927]),\n",
       " DenseVector([-1.145, -1.0656, -1.371, -0.6611]),\n",
       " DenseVector([0.869, 0.9337, -1.2647, -1.2848]),\n",
       " DenseVector([-1.145, 0.9337, -0.9194, 0.1704]),\n",
       " DenseVector([-1.145, 0.9337, -0.4677, 1.4177]),\n",
       " DenseVector([0.869, 0.9337, -1.1053, -0.6611]),\n",
       " DenseVector([0.869, -1.0656, -1.2647, -1.2848]),\n",
       " DenseVector([-1.145, 0.9337, -0.0426, 0.7941]),\n",
       " DenseVector([-1.145, 0.9337, -0.0426, 0.7941]),\n",
       " DenseVector([-1.145, -1.0656, -0.4943, 0.2744]),\n",
       " DenseVector([0.869, -1.0656, -1.371, -0.6611]),\n",
       " DenseVector([0.869, 0.9337, -0.9194, 0.1704]),\n",
       " DenseVector([0.869, 0.9337, -0.574, -0.6611]),\n",
       " DenseVector([-1.145, -1.0656, -0.8928, -0.6611]),\n",
       " DenseVector([0.869, -1.0656, -0.4146, -0.2453]),\n",
       " DenseVector([0.869, -1.0656, -0.4943, 0.2744]),\n",
       " DenseVector([-1.145, 0.9337, -0.8928, -0.6611]),\n",
       " DenseVector([-1.145, 0.9337, -0.9194, 0.1704]),\n",
       " DenseVector([0.869, 0.9337, -0.8928, -0.6611]),\n",
       " DenseVector([-1.145, 0.9337, 0.3293, -0.6611]),\n",
       " DenseVector([0.869, -1.0656, -0.5208, -0.6611]),\n",
       " DenseVector([0.869, -1.0656, -0.4943, 0.2744]),\n",
       " DenseVector([-1.145, 0.9337, -0.4146, -0.2453]),\n",
       " DenseVector([0.869, 0.9337, -1.1053, -0.6611]),\n",
       " DenseVector([0.869, -1.0656, -0.4677, 1.4177]),\n",
       " DenseVector([-1.145, 0.9337, -0.5208, -0.6611]),\n",
       " DenseVector([0.869, 0.9337, -0.4146, -0.2453]),\n",
       " DenseVector([0.869, 0.9337, -0.4146, -0.2453]),\n",
       " DenseVector([0.869, -1.0656, -0.3083, -1.9084]),\n",
       " DenseVector([0.869, 0.9337, -0.1755, 0.1704]),\n",
       " DenseVector([-1.145, 0.9337, -0.4677, 1.4177]),\n",
       " DenseVector([0.869, -1.0656, -0.574, -0.6611]),\n",
       " DenseVector([0.869, -1.0656, -0.8928, -0.6611]),\n",
       " DenseVector([0.869, -1.0656, 0.3293, 0.7941]),\n",
       " DenseVector([0.869, -1.0656, 0.3293, 0.7941]),\n",
       " DenseVector([-1.145, -1.0656, 0.2231, 3.0808]),\n",
       " DenseVector([0.869, -1.0656, -0.9459, -1.2848]),\n",
       " DenseVector([-1.145, 0.9337, 0.2231, 3.0808]),\n",
       " DenseVector([0.869, -1.0656, -0.1755, 0.1704]),\n",
       " DenseVector([-1.145, 0.9337, 0.3293, -0.6611]),\n",
       " DenseVector([-1.145, 0.9337, 0.3293, 0.7941]),\n",
       " DenseVector([0.869, -1.0656, -0.2552, 0.1704]),\n",
       " DenseVector([-1.145, 0.9337, -0.3614, 0.7941]),\n",
       " DenseVector([0.869, 0.9337, -0.3083, -1.9084]),\n",
       " DenseVector([-1.145, 0.9337, 0.3293, -0.6611]),\n",
       " DenseVector([0.869, -1.0656, -0.0958, 0.7941]),\n",
       " DenseVector([0.869, 0.9337, -0.2552, 0.1704]),\n",
       " DenseVector([0.869, -1.0656, -0.5208, -0.6611]),\n",
       " DenseVector([0.869, -1.0656, -0.4677, 1.4177]),\n",
       " DenseVector([-1.145, -1.0656, -0.0958, 0.7941]),\n",
       " DenseVector([-1.145, 0.9337, -0.5208, -0.6611]),\n",
       " DenseVector([0.869, -1.0656, -0.8131, -1.2848]),\n",
       " DenseVector([0.869, -1.0656, -0.3083, -1.9084]),\n",
       " DenseVector([-1.145, 0.9337, -0.0692, 1.8335]),\n",
       " DenseVector([-1.145, 0.9337, -0.3614, -0.2453]),\n",
       " DenseVector([-1.145, 0.9337, 0.3293, -0.6611]),\n",
       " DenseVector([0.869, 0.9337, -0.5208, -0.6611]),\n",
       " DenseVector([0.869, 0.9337, -0.3083, -1.9084]),\n",
       " DenseVector([0.869, -1.0656, 0.1965, -0.6611]),\n",
       " DenseVector([-1.145, 0.9337, 0.3293, -0.6611]),\n",
       " DenseVector([-1.145, 0.9337, -0.3614, 0.7941]),\n",
       " DenseVector([0.869, 0.9337, 0.1965, -0.6611]),\n",
       " DenseVector([-1.145, 0.9337, -0.0692, 1.8335]),\n",
       " DenseVector([-1.145, 0.9337, 0.1699, 0.2744]),\n",
       " DenseVector([0.869, -1.0656, -0.1755, -0.2453]),\n",
       " DenseVector([0.869, -1.0656, 0.1699, 0.2744]),\n",
       " DenseVector([0.869, 0.9337, -0.4146, 0.7941]),\n",
       " DenseVector([0.869, 0.9337, -0.1755, -0.2453]),\n",
       " DenseVector([-1.145, 0.9337, 1.0998, -0.2453]),\n",
       " DenseVector([-1.145, 0.9337, 1.0998, -0.2453]),\n",
       " DenseVector([0.869, -1.0656, 0.2762, 0.5862]),\n",
       " DenseVector([0.869, -1.0656, -0.0692, 1.4177]),\n",
       " DenseVector([-1.145, 0.9337, 1.0998, -0.2453]),\n",
       " DenseVector([0.869, -1.0656, -0.2286, -2.0124]),\n",
       " DenseVector([0.869, -1.0656, 0.1699, 0.7941]),\n",
       " DenseVector([0.869, 0.9337, 0.2762, 0.5862]),\n",
       " DenseVector([-1.145, 0.9337, 0.1965, -0.2453]),\n",
       " DenseVector([0.869, -1.0656, 1.2858, 0.1704]),\n",
       " DenseVector([0.869, -1.0656, 1.2858, 0.1704]),\n",
       " DenseVector([-1.145, 0.9337, -0.0692, 1.8335]),\n",
       " DenseVector([0.869, -1.0656, -0.9459, -1.2848]),\n",
       " DenseVector([0.869, 0.9337, -0.2286, -2.0124]),\n",
       " DenseVector([0.869, -1.0656, -0.0426, 0.7941]),\n",
       " DenseVector([0.869, 0.9337, 1.2858, 0.1704]),\n",
       " DenseVector([-1.145, 0.9337, 1.0998, -0.2453]),\n",
       " DenseVector([-1.145, 0.9337, 1.0998, -0.2453]),\n",
       " DenseVector([-1.145, 0.9337, 0.1699, 0.2744]),\n",
       " DenseVector([-1.145, -1.0656, 0.1699, 0.7941]),\n",
       " DenseVector([0.869, -1.0656, 0.1699, 0.2744]),\n",
       " DenseVector([0.869, -1.0656, -0.2286, -0.2453]),\n",
       " DenseVector([-1.145, 0.9337, 0.8341, 1.8335]),\n",
       " DenseVector([0.869, -1.0656, 1.3921, 0.1704]),\n",
       " DenseVector([0.869, 0.9337, 1.3921, 0.1704]),\n",
       " DenseVector([0.869, -1.0656, 0.2762, 0.5862]),\n",
       " DenseVector([-1.145, 0.9337, 1.5249, 0.1704]),\n",
       " DenseVector([-1.145, -1.0656, -0.0692, 1.4177]),\n",
       " DenseVector([-1.145, 0.9337, 0.1965, -0.2453]),\n",
       " DenseVector([-1.145, 0.9337, 1.3389, -0.2453]),\n",
       " DenseVector([-1.145, 0.9337, 1.8969, -0.2453]),\n",
       " DenseVector([0.869, 0.9337, 0.2762, 0.5862]),\n",
       " DenseVector([-1.145, 0.9337, 1.5249, 0.1704]),\n",
       " DenseVector([0.869, -1.0656, -0.1755, -0.2453]),\n",
       " DenseVector([0.869, 0.9337, -0.2286, -0.2453]),\n",
       " DenseVector([0.869, -1.0656, 0.2762, 0.5862]),\n",
       " DenseVector([0.869, -1.0656, -0.2286, -2.0124]),\n",
       " DenseVector([0.869, -1.0656, -0.0692, 1.4177]),\n",
       " DenseVector([0.869, 0.9337, -0.2286, -2.0124]),\n",
       " DenseVector([-1.145, 0.9337, 1.4983, 0.1704]),\n",
       " DenseVector([0.869, -1.0656, 0.3028, 0.7941]),\n",
       " DenseVector([-1.145, 0.9337, 0.3293, -0.6611]),\n",
       " DenseVector([0.869, -1.0656, 0.1699, 0.7941]),\n",
       " DenseVector([0.869, -1.0656, -0.2286, -2.0124]),\n",
       " DenseVector([0.869, -1.0656, 1.0201, 1.002]),\n",
       " DenseVector([-1.145, 0.9337, 1.4983, 0.7941]),\n",
       " DenseVector([0.869, -1.0656, 0.4356, -0.2453]),\n",
       " DenseVector([0.869, -1.0656, -0.8397, -1.9084]),\n",
       " DenseVector([-1.145, 0.9337, 1.4983, 0.1704]),\n",
       " DenseVector([0.869, -1.0656, 1.5515, -0.0375]),\n",
       " DenseVector([0.869, -1.0656, 1.4983, 0.7941]),\n",
       " DenseVector([0.869, 0.9337, 0.1699, 0.7941]),\n",
       " DenseVector([0.869, 0.9337, 1.5515, -0.0375]),\n",
       " DenseVector([0.869, -1.0656, 1.4983, 0.3783]),\n",
       " DenseVector([-1.145, 0.9337, 2.5611, 0.1704]),\n",
       " DenseVector([-1.145, -1.0656, 0.4622, -1.8045]),\n",
       " DenseVector([0.869, -1.0656, 0.4622, -1.8045]),\n",
       " DenseVector([0.869, -1.0656, 0.8076, 0.7941]),\n",
       " DenseVector([-1.145, 0.9337, 1.0467, 0.7941]),\n",
       " DenseVector([0.869, -1.0656, 0.0637, -0.6611]),\n",
       " DenseVector([0.869, -1.0656, 0.2762, 0.5862]),\n",
       " DenseVector([0.869, -1.0656, 0.967, 0.7941]),\n",
       " DenseVector([0.869, -1.0656, 0.4622, -1.8045]),\n",
       " DenseVector([0.869, -1.0656, 0.5153, -1.5966]),\n",
       " DenseVector([-1.145, 0.9337, 0.5153, -1.5966]),\n",
       " DenseVector([0.869, 0.9337, 0.5153, -1.5966]),\n",
       " DenseVector([0.869, -1.0656, 2.0828, 0.5862]),\n",
       " DenseVector([0.869, -1.0656, 0.5153, -1.5966]),\n",
       " DenseVector([0.869, -1.0656, 1.9234, -0.7651]),\n",
       " DenseVector([-1.145, 0.9337, 2.747, 1.6256]),\n",
       " DenseVector([-1.145, 0.9337, 2.747, 1.6256]),\n",
       " DenseVector([0.869, -1.0656, 1.3655, -0.7651]),\n",
       " DenseVector([-1.145, 0.9337, 1.3655, -0.7651]),\n",
       " DenseVector([0.869, -1.0656, 1.9234, -0.7651]),\n",
       " DenseVector([-1.145, -1.0656, 4.2083, -0.2453]),\n",
       " DenseVector([0.869, -1.0656, 2.0828, 0.5862]),\n",
       " DenseVector([-1.145, 0.9337, 2.747, 1.6256]),\n",
       " DenseVector([0.869, -1.0656, 2.136, -1.2848]),\n",
       " DenseVector([-1.145, -1.0656, 2.0828, 0.5862]),\n",
       " DenseVector([-1.145, 0.9337, 2.136, -1.2848])]"
      ]
     },
     "execution_count": 14,
     "metadata": {},
     "output_type": "execute_result"
    }
   ],
   "source": [
    "csAuto = carrosDf.rdd.map(centerAndScale)\n",
    "csAuto.collect()"
   ]
  },
  {
   "cell_type": "code",
   "execution_count": 16,
   "id": "joined-credits",
   "metadata": {},
   "outputs": [
    {
     "name": "stdout",
     "output_type": "stream",
     "text": [
      "+--------------------+\n",
      "|            features|\n",
      "+--------------------+\n",
      "|[-1.1449709581789...|\n",
      "|[-1.1449709581789...|\n",
      "|[-1.1449709581789...|\n",
      "|[-1.1449709581789...|\n",
      "|[-1.1449709581789...|\n",
      "|[-1.1449709581789...|\n",
      "|[-1.1449709581789...|\n",
      "|[-1.1449709581789...|\n",
      "|[-1.1449709581789...|\n",
      "|[-1.1449709581789...|\n",
      "+--------------------+\n",
      "only showing top 10 rows\n",
      "\n"
     ]
    }
   ],
   "source": [
    "# Criando um Spark Dataframe\n",
    "\n",
    "autoRows = csAuto.map(lambda f: Row(features = f))\n",
    "autoDf = spSession.createDataFrame(autoRows)\n",
    "autoDf.select('features').show(10)"
   ]
  },
  {
   "cell_type": "code",
   "execution_count": 19,
   "id": "choice-harvard",
   "metadata": {},
   "outputs": [
    {
     "name": "stdout",
     "output_type": "stream",
     "text": [
      "+--------------------+----------+\n",
      "|            features|prediction|\n",
      "+--------------------+----------+\n",
      "|[-1.1449709581789...|         0|\n",
      "|[-1.1449709581789...|         0|\n",
      "|[-1.1449709581789...|         0|\n",
      "|[-1.1449709581789...|         0|\n",
      "|[-1.1449709581789...|         0|\n",
      "|[-1.1449709581789...|         0|\n",
      "|[-1.1449709581789...|         0|\n",
      "|[-1.1449709581789...|         0|\n",
      "|[-1.1449709581789...|         0|\n",
      "|[-1.1449709581789...|         0|\n",
      "|[-1.1449709581789...|         0|\n",
      "|[0.86895117361793...|         0|\n",
      "|[0.86895117361793...|         0|\n",
      "|[-1.1449709581789...|         0|\n",
      "|[-1.1449709581789...|         0|\n",
      "|[-1.1449709581789...|         0|\n",
      "|[-1.1449709581789...|         0|\n",
      "|[0.86895117361793...|         0|\n",
      "|[-1.1449709581789...|         0|\n",
      "|[0.86895117361793...|         1|\n",
      "+--------------------+----------+\n",
      "only showing top 20 rows\n",
      "\n"
     ]
    }
   ],
   "source": [
    "# Importando o K-Means para clusterização\n",
    "\n",
    "from pyspark.ml.clustering import KMeans\n",
    "kmeans = KMeans(k = 3, seed = 1)\n",
    "modelo = kmeans.fit(autoDf)\n",
    "previsoes = modelo.transform(autoDf)\n",
    "previsoes.show()"
   ]
  },
  {
   "cell_type": "code",
   "execution_count": 20,
   "id": "secure-quest",
   "metadata": {},
   "outputs": [],
   "source": [
    "# Polotando o resultado\n",
    "\n",
    "import pandas as pd\n",
    "import matplotlib.pylab as plt\n",
    "%matplotlib inline"
   ]
  },
  {
   "cell_type": "code",
   "execution_count": 21,
   "id": "piano-subject",
   "metadata": {},
   "outputs": [],
   "source": [
    "def unstripData(instr):\n",
    "    return(instr['prediction'], instr['features'][0], instr['features'][1], instr['features'][2], instr['features'][3])"
   ]
  },
  {
   "cell_type": "code",
   "execution_count": 24,
   "id": "stainless-phone",
   "metadata": {},
   "outputs": [],
   "source": [
    "# Organizando os dados para plot\n",
    "\n",
    "unstripped = previsoes.rdd.map(unstripData)\n",
    "predList = unstripped.collect()\n",
    "predPd = pd.DataFrame(predList)"
   ]
  },
  {
   "cell_type": "code",
   "execution_count": 25,
   "id": "reduced-preservation",
   "metadata": {},
   "outputs": [
    {
     "data": {
      "text/plain": [
       "<matplotlib.collections.PathCollection at 0x1a67b68b9c8>"
      ]
     },
     "execution_count": 25,
     "metadata": {},
     "output_type": "execute_result"
    },
    {
     "data": {
      "image/png": "[encoded data removed]",
      "text/plain": [
       "<Figure size 432x288 with 1 Axes>"
      ]
     },
     "metadata": {
      "needs_background": "light"
     },
     "output_type": "display_data"
    }
   ],
   "source": [
    "plt.cla()\n",
    "plt.scatter(predPd[3], predPd[4], c = predPd[0])"
   ]
  }
 ],
 "metadata": {
  "kernelspec": {
   "display_name": "Python 3",
   "language": "python",
   "name": "python3"
  },
  "language_info": {
   "codemirror_mode": {
    "name": "ipython",
    "version": 3
   },
   "file_extension": ".py",
   "mimetype": "text/x-python",
   "name": "python",
   "nbconvert_exporter": "python",
   "pygments_lexer": "ipython3",
   "version": "3.7.6"
  }
 },
 "nbformat": 4,
 "nbformat_minor": 5
}
