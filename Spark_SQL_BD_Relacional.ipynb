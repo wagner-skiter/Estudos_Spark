{
 "cells": [
  {
   "cell_type": "markdown",
   "id": "southwest-medicaid",
   "metadata": {},
   "source": [
    "# Spark SQL conectando ao MySQL(banco relacional)"
   ]
  },
  {
   "cell_type": "code",
   "execution_count": 1,
   "id": "comprehensive-residence",
   "metadata": {},
   "outputs": [
    {
     "data": {
      "text/plain": [
       "'C:\\\\opt\\\\spark\\\\spark-3.1.1-bin-hadoop2.7'"
      ]
     },
     "execution_count": 1,
     "metadata": {},
     "output_type": "execute_result"
    }
   ],
   "source": [
    "import os\n",
    "import findspark\n",
    "findspark.init()\n",
    "findspark.find()\n",
    "import pyspark\n",
    "findspark.find()"
   ]
  },
  {
   "cell_type": "code",
   "execution_count": 2,
   "id": "beginning-candy",
   "metadata": {},
   "outputs": [],
   "source": [
    "from pyspark import SparkContext, SparkConf\n",
    "from pyspark.sql import SparkSession\n",
    "from pyspark.rdd import RDD\n",
    "from pyspark.sql import SparkSession\n",
    "from pyspark.sql import SQLContext\n",
    "from pyspark.sql import Row\n",
    "\n",
    "conf = pyspark.SparkConf().setAppName('SparkApp').setMaster('local[*]')\n",
    "sc = pyspark.SparkContext(conf=conf)\n",
    "spark = SparkSession(sc)\n",
    "sc._conf.get('spark.driver.memory')"
   ]
  },
  {
   "cell_type": "code",
   "execution_count": 3,
   "id": "practical-brazilian",
   "metadata": {},
   "outputs": [],
   "source": [
    "# Spark Session - usando quando se trabalha com Dataframes no Spark\n",
    "\n",
    "spSession = SparkSession.builder.master('local').appName('DSA-SparkSQL').config('spark.some.config.option', 'some-value').getOrCreate()"
   ]
  },
  {
   "cell_type": "code",
   "execution_count": 4,
   "id": "touched-uganda",
   "metadata": {},
   "outputs": [],
   "source": [
    "# Conectando ao banco de dados\n",
    "\n",
    "import mysql.connector\n",
    "import pandas as a\n",
    "\n",
    "conn = mysql.connector.connect(host=\"localhost\", user=\"root\", passwd=\"1234\", db=\"carros\")\n",
    "\n",
    "\n",
    "# Selecionando a tabela que iremos usar\n",
    "\n",
    "car = a.read_sql_query(\"SELECT * FROM CARROS\",conn)"
   ]
  },
  {
   "cell_type": "code",
   "execution_count": 5,
   "id": "liquid-coaching",
   "metadata": {},
   "outputs": [
    {
     "data": {
      "text/html": [
       "<div>\n",
       "<style scoped>\n",
       "    .dataframe tbody tr th:only-of-type {\n",
       "        vertical-align: middle;\n",
       "    }\n",
       "\n",
       "    .dataframe tbody tr th {\n",
       "        vertical-align: top;\n",
       "    }\n",
       "\n",
       "    .dataframe thead th {\n",
       "        text-align: right;\n",
       "    }\n",
       "</style>\n",
       "<table border=\"1\" class=\"dataframe\">\n",
       "  <thead>\n",
       "    <tr style=\"text-align: right;\">\n",
       "      <th></th>\n",
       "      <th>MAKE</th>\n",
       "      <th>FUELTYPE</th>\n",
       "      <th>ASPIRE</th>\n",
       "      <th>DOORS</th>\n",
       "      <th>BODY</th>\n",
       "      <th>DRIVE</th>\n",
       "      <th>CYLINDERS</th>\n",
       "      <th>HP</th>\n",
       "      <th>RPM</th>\n",
       "      <th>MPG-CITY</th>\n",
       "      <th>MPG-HWY</th>\n",
       "      <th>PRICE</th>\n",
       "    </tr>\n",
       "  </thead>\n",
       "  <tbody>\n",
       "    <tr>\n",
       "      <th>0</th>\n",
       "      <td>subaru</td>\n",
       "      <td>gas</td>\n",
       "      <td>std</td>\n",
       "      <td>two</td>\n",
       "      <td>hatchback</td>\n",
       "      <td>fwd</td>\n",
       "      <td>four</td>\n",
       "      <td>69</td>\n",
       "      <td>4900</td>\n",
       "      <td>31</td>\n",
       "      <td>36</td>\n",
       "      <td>5118</td>\n",
       "    </tr>\n",
       "    <tr>\n",
       "      <th>1</th>\n",
       "      <td>chevrolet</td>\n",
       "      <td>gas</td>\n",
       "      <td>std</td>\n",
       "      <td>two</td>\n",
       "      <td>hatchback</td>\n",
       "      <td>fwd</td>\n",
       "      <td>three</td>\n",
       "      <td>48</td>\n",
       "      <td>5100</td>\n",
       "      <td>47</td>\n",
       "      <td>53</td>\n",
       "      <td>5151</td>\n",
       "    </tr>\n",
       "    <tr>\n",
       "      <th>2</th>\n",
       "      <td>mazda</td>\n",
       "      <td>gas</td>\n",
       "      <td>std</td>\n",
       "      <td>two</td>\n",
       "      <td>hatchback</td>\n",
       "      <td>fwd</td>\n",
       "      <td>four</td>\n",
       "      <td>68</td>\n",
       "      <td>5000</td>\n",
       "      <td>30</td>\n",
       "      <td>31</td>\n",
       "      <td>5195</td>\n",
       "    </tr>\n",
       "    <tr>\n",
       "      <th>3</th>\n",
       "      <td>toyota</td>\n",
       "      <td>gas</td>\n",
       "      <td>std</td>\n",
       "      <td>two</td>\n",
       "      <td>hatchback</td>\n",
       "      <td>fwd</td>\n",
       "      <td>four</td>\n",
       "      <td>62</td>\n",
       "      <td>4800</td>\n",
       "      <td>35</td>\n",
       "      <td>39</td>\n",
       "      <td>5348</td>\n",
       "    </tr>\n",
       "    <tr>\n",
       "      <th>4</th>\n",
       "      <td>mitsubishi</td>\n",
       "      <td>gas</td>\n",
       "      <td>std</td>\n",
       "      <td>two</td>\n",
       "      <td>hatchback</td>\n",
       "      <td>fwd</td>\n",
       "      <td>four</td>\n",
       "      <td>68</td>\n",
       "      <td>5500</td>\n",
       "      <td>37</td>\n",
       "      <td>41</td>\n",
       "      <td>5389</td>\n",
       "    </tr>\n",
       "  </tbody>\n",
       "</table>\n",
       "</div>"
      ],
      "text/plain": [
       "         MAKE FUELTYPE ASPIRE DOORS       BODY DRIVE CYLINDERS  HP   RPM  \\\n",
       "0      subaru      gas    std   two  hatchback   fwd      four  69  4900   \n",
       "1   chevrolet      gas    std   two  hatchback   fwd     three  48  5100   \n",
       "2       mazda      gas    std   two  hatchback   fwd      four  68  5000   \n",
       "3      toyota      gas    std   two  hatchback   fwd      four  62  4800   \n",
       "4  mitsubishi      gas    std   two  hatchback   fwd      four  68  5500   \n",
       "\n",
       "   MPG-CITY  MPG-HWY  PRICE  \n",
       "0        31       36   5118  \n",
       "1        47       53   5151  \n",
       "2        30       31   5195  \n",
       "3        35       39   5348  \n",
       "4        37       41   5389  "
      ]
     },
     "execution_count": 5,
     "metadata": {},
     "output_type": "execute_result"
    }
   ],
   "source": [
    "# Note que quando connectamos ao banco MySQL o mesmo retorna um Dataframe\n",
    "\n",
    "car.head()"
   ]
  },
  {
   "cell_type": "code",
   "execution_count": 6,
   "id": "adverse-export",
   "metadata": {},
   "outputs": [],
   "source": [
    "# Convertendo para um DataFrame Spark\n",
    "\n",
    "\n",
    "mysql = spSession.createDataFrame(car)"
   ]
  },
  {
   "cell_type": "code",
   "execution_count": 7,
   "id": "tender-summit",
   "metadata": {},
   "outputs": [
    {
     "name": "stdout",
     "output_type": "stream",
     "text": [
      "+----------+--------+------+-----+---------+-----+---------+---+----+--------+-------+-----+\n",
      "|      MAKE|FUELTYPE|ASPIRE|DOORS|     BODY|DRIVE|CYLINDERS| HP| RPM|MPG-CITY|MPG-HWY|PRICE|\n",
      "+----------+--------+------+-----+---------+-----+---------+---+----+--------+-------+-----+\n",
      "|    subaru|     gas|   std|  two|hatchback|  fwd|     four| 69|4900|      31|     36| 5118|\n",
      "| chevrolet|     gas|   std|  two|hatchback|  fwd|    three| 48|5100|      47|     53| 5151|\n",
      "|     mazda|     gas|   std|  two|hatchback|  fwd|     four| 68|5000|      30|     31| 5195|\n",
      "|    toyota|     gas|   std|  two|hatchback|  fwd|     four| 62|4800|      35|     39| 5348|\n",
      "|mitsubishi|     gas|   std|  two|hatchback|  fwd|     four| 68|5500|      37|     41| 5389|\n",
      "|     honda|     gas|   std|  two|hatchback|  fwd|     four| 60|5500|      38|     42| 5399|\n",
      "|    nissan|     gas|   std|  two|    sedan|  fwd|     four| 69|5200|      31|     37| 5499|\n",
      "|     dodge|     gas|   std|  two|hatchback|  fwd|     four| 68|5500|      37|     41| 5572|\n",
      "|  plymouth|     gas|   std|  two|hatchback|  fwd|     four| 68|5500|      37|     41| 5572|\n",
      "|     mazda|     gas|   std|  two|hatchback|  fwd|     four| 68|5000|      31|     38| 6095|\n",
      "|mitsubishi|     gas|   std|  two|hatchback|  fwd|     four| 68|5500|      31|     38| 6189|\n",
      "|     dodge|     gas|   std| four|hatchback|  fwd|     four| 68|5500|      31|     38| 6229|\n",
      "|  plymouth|     gas|   std| four|hatchback|  fwd|     four| 68|5500|      31|     38| 6229|\n",
      "| chevrolet|     gas|   std|  two|hatchback|  fwd|     four| 70|5400|      38|     43| 6295|\n",
      "|    toyota|     gas|   std|  two|hatchback|  fwd|     four| 62|4800|      31|     38| 6338|\n",
      "|     dodge|     gas|   std|  two|hatchback|  fwd|     four| 68|5500|      31|     38| 6377|\n",
      "|     honda|     gas|   std|  two|hatchback|  fwd|     four| 58|4800|      49|     54| 6479|\n",
      "|    toyota|     gas|   std| four|hatchback|  fwd|     four| 62|4800|      31|     38| 6488|\n",
      "|     honda|     gas|   std|  two|hatchback|  fwd|     four| 76|6000|      30|     34| 6529|\n",
      "| chevrolet|     gas|   std| four|    sedan|  fwd|     four| 70|5400|      38|     43| 6575|\n",
      "+----------+--------+------+-----+---------+-----+---------+---+----+--------+-------+-----+\n",
      "only showing top 20 rows\n",
      "\n"
     ]
    }
   ],
   "source": [
    "mysql.show()"
   ]
  },
  {
   "cell_type": "code",
   "execution_count": 8,
   "id": "wired-thompson",
   "metadata": {},
   "outputs": [],
   "source": [
    "# Convertendo para uma tabela temporária para utilizar comandos SQL\n",
    "\n",
    "mysql.registerTempTable('carrostb')"
   ]
  },
  {
   "cell_type": "code",
   "execution_count": 9,
   "id": "actual-foster",
   "metadata": {},
   "outputs": [
    {
     "name": "stdout",
     "output_type": "stream",
     "text": [
      "+----------+--------+------+-----+---------+-----+---------+---+----+--------+-------+-----+\n",
      "|      MAKE|FUELTYPE|ASPIRE|DOORS|     BODY|DRIVE|CYLINDERS| HP| RPM|MPG-CITY|MPG-HWY|PRICE|\n",
      "+----------+--------+------+-----+---------+-----+---------+---+----+--------+-------+-----+\n",
      "|     mazda|     gas|   std|  two|hatchback|  fwd|     four| 68|5000|      30|     31| 5195|\n",
      "|mitsubishi|     gas|   std|  two|hatchback|  fwd|     four| 68|5500|      37|     41| 5389|\n",
      "|     dodge|     gas|   std|  two|hatchback|  fwd|     four| 68|5500|      37|     41| 5572|\n",
      "|  plymouth|     gas|   std|  two|hatchback|  fwd|     four| 68|5500|      37|     41| 5572|\n",
      "|     mazda|     gas|   std|  two|hatchback|  fwd|     four| 68|5000|      31|     38| 6095|\n",
      "|mitsubishi|     gas|   std|  two|hatchback|  fwd|     four| 68|5500|      31|     38| 6189|\n",
      "|     dodge|     gas|   std| four|hatchback|  fwd|     four| 68|5500|      31|     38| 6229|\n",
      "|  plymouth|     gas|   std| four|hatchback|  fwd|     four| 68|5500|      31|     38| 6229|\n",
      "|     dodge|     gas|   std|  two|hatchback|  fwd|     four| 68|5500|      31|     38| 6377|\n",
      "|mitsubishi|     gas|   std|  two|hatchback|  fwd|     four| 68|5500|      31|     38| 6669|\n",
      "|     dodge|     gas|   std| four|    sedan|  fwd|     four| 68|5500|      31|     38| 6692|\n",
      "|  plymouth|     gas|   std| four|    sedan|  fwd|     four| 68|5500|      31|     38| 6692|\n",
      "|     mazda|     gas|   std| four|    sedan|  fwd|     four| 68|5000|      31|     38| 6695|\n",
      "|     mazda|     gas|   std|  two|hatchback|  fwd|     four| 68|5000|      31|     38| 6795|\n",
      "|     mazda|     gas|   std| four|    sedan|  fwd|     four| 68|5000|      31|     38| 7395|\n",
      "|     dodge|     gas|   std| four|    sedan|  fwd|     four| 68|5500|      31|     38| 7609|\n",
      "|  plymouth|     gas|   std| four|    sedan|  fwd|     four| 68|5500|      31|     38| 7609|\n",
      "|volkswagen|  diesel| turbo| four|    sedan|  fwd|     four| 68|4500|      37|     42| 9495|\n",
      "|volkswagen|  diesel| turbo| four|    sedan|  fwd|     four| 68|4500|      33|     38|13845|\n",
      "+----------+--------+------+-----+---------+-----+---------+---+----+--------+-------+-----+\n",
      "\n"
     ]
    }
   ],
   "source": [
    "spSession.sql(\"select * from carrostb where hp = '68'\").show()"
   ]
  }
 ],
 "metadata": {
  "kernelspec": {
   "display_name": "Python 3",
   "language": "python",
   "name": "python3"
  },
  "language_info": {
   "codemirror_mode": {
    "name": "ipython",
    "version": 3
   },
   "file_extension": ".py",
   "mimetype": "text/x-python",
   "name": "python",
   "nbconvert_exporter": "python",
   "pygments_lexer": "ipython3",
   "version": "3.7.6"
  }
 },
 "nbformat": 4,
 "nbformat_minor": 5
}
