{
 "cells": [
  {
   "cell_type": "markdown",
   "id": "ruled-logging",
   "metadata": {},
   "source": [
    "# Temp Tables"
   ]
  },
  {
   "cell_type": "code",
   "execution_count": 1,
   "id": "restricted-seafood",
   "metadata": {},
   "outputs": [
    {
     "data": {
      "text/plain": [
       "'C:\\\\opt\\\\spark\\\\spark-3.1.1-bin-hadoop2.7'"
      ]
     },
     "execution_count": 1,
     "metadata": {},
     "output_type": "execute_result"
    }
   ],
   "source": [
    "import os\n",
    "import findspark\n",
    "findspark.init()\n",
    "findspark.find()\n",
    "import pyspark\n",
    "findspark.find()"
   ]
  },
  {
   "cell_type": "code",
   "execution_count": 2,
   "id": "academic-albert",
   "metadata": {},
   "outputs": [],
   "source": [
    "from pyspark import SparkContext, SparkConf\n",
    "from pyspark.sql import SparkSession\n",
    "from pyspark.rdd import RDD\n",
    "from pyspark.sql import SparkSession\n",
    "from pyspark.sql import SQLContext\n",
    "from pyspark.sql import Row\n",
    "\n",
    "conf = pyspark.SparkConf().setAppName('SparkApp').setMaster('local[*]')\n",
    "sc = pyspark.SparkContext(conf=conf)\n",
    "spark = SparkSession(sc)\n",
    "sc._conf.get('spark.driver.memory')"
   ]
  },
  {
   "cell_type": "code",
   "execution_count": 3,
   "id": "innocent-seminar",
   "metadata": {},
   "outputs": [],
   "source": [
    "# Spark Session - usando quando se trabalha com Dataframes no Spark\n",
    "\n",
    "spSession = SparkSession.builder.master('local').appName('DSA-SparkSQL').config('spark.some.config.option', 'some-value').getOrCreate()"
   ]
  },
  {
   "cell_type": "code",
   "execution_count": 4,
   "id": "finished-peace",
   "metadata": {},
   "outputs": [],
   "source": [
    "# Importando o arquivo JSON\n",
    "\n",
    "funcDF = spSession.read.json('C:/Users/skite/OneDrive/Documentos/GitHub/Spark/funcionarios.json')"
   ]
  },
  {
   "cell_type": "code",
   "execution_count": 5,
   "id": "manufactured-aberdeen",
   "metadata": {},
   "outputs": [],
   "source": [
    "# Registrando o Dataframe como Temp Table\n",
    "\n",
    "funcDF.createOrReplaceTempView('funcTB')"
   ]
  },
  {
   "cell_type": "code",
   "execution_count": 6,
   "id": "veterinary-harbor",
   "metadata": {},
   "outputs": [
    {
     "name": "stdout",
     "output_type": "stream",
     "text": [
      "+------+-----+---------------+-------+----+\n",
      "|deptid|idade|           nome|salario|sexo|\n",
      "+------+-----+---------------+-------+----+\n",
      "|  1000|   36|Bruno Velasquez|   6700|   m|\n",
      "+------+-----+---------------+-------+----+\n",
      "\n"
     ]
    }
   ],
   "source": [
    "spSession.sql('select * from funcTB where salario = 6700').show()"
   ]
  },
  {
   "cell_type": "code",
   "execution_count": 15,
   "id": "exotic-retrieval",
   "metadata": {},
   "outputs": [
    {
     "ename": "TypeError",
     "evalue": "registerDataFrameAsTable() missing 1 required positional argument: 'self'",
     "output_type": "error",
     "traceback": [
      "\u001b[1;31m---------------------------------------------------------------------------\u001b[0m",
      "\u001b[1;31mTypeError\u001b[0m                                 Traceback (most recent call last)",
      "\u001b[1;32m<ipython-input-15-c46170a734e0>\u001b[0m in \u001b[0;36m<module>\u001b[1;34m\u001b[0m\n\u001b[0;32m      1\u001b[0m \u001b[1;31m# Criando Tem Table\u001b[0m\u001b[1;33m\u001b[0m\u001b[1;33m\u001b[0m\u001b[1;33m\u001b[0m\u001b[0m\n\u001b[0;32m      2\u001b[0m \u001b[1;33m\u001b[0m\u001b[0m\n\u001b[1;32m----> 3\u001b[1;33m \u001b[0mSQLContext\u001b[0m\u001b[1;33m.\u001b[0m\u001b[0mregisterDataFrameAsTable\u001b[0m\u001b[1;33m(\u001b[0m\u001b[0mdf\u001b[0m \u001b[1;33m=\u001b[0m \u001b[0mfuncDF\u001b[0m\u001b[1;33m,\u001b[0m \u001b[0mtableName\u001b[0m \u001b[1;33m=\u001b[0m \u001b[1;34m'funcTB2'\u001b[0m\u001b[1;33m)\u001b[0m\u001b[1;33m\u001b[0m\u001b[1;33m\u001b[0m\u001b[0m\n\u001b[0m",
      "\u001b[1;31mTypeError\u001b[0m: registerDataFrameAsTable() missing 1 required positional argument: 'self'"
     ]
    }
   ],
   "source": [
    "# Criando Tem Table\n",
    "\n",
    "SQLContext.registerDataFrameAsTable(df = funcDF, tableName = 'funcTB2')"
   ]
  },
  {
   "cell_type": "code",
   "execution_count": null,
   "id": "future-flexibility",
   "metadata": {},
   "outputs": [],
   "source": []
  },
  {
   "cell_type": "code",
   "execution_count": null,
   "id": "abroad-minute",
   "metadata": {},
   "outputs": [],
   "source": []
  },
  {
   "cell_type": "code",
   "execution_count": null,
   "id": "brilliant-carry",
   "metadata": {},
   "outputs": [],
   "source": []
  },
  {
   "cell_type": "code",
   "execution_count": null,
   "id": "ready-productivity",
   "metadata": {},
   "outputs": [],
   "source": []
  },
  {
   "cell_type": "code",
   "execution_count": null,
   "id": "confirmed-interaction",
   "metadata": {},
   "outputs": [],
   "source": []
  }
 ],
 "metadata": {
  "kernelspec": {
   "display_name": "Python 3",
   "language": "python",
   "name": "python3"
  },
  "language_info": {
   "codemirror_mode": {
    "name": "ipython",
    "version": 3
   },
   "file_extension": ".py",
   "mimetype": "text/x-python",
   "name": "python",
   "nbconvert_exporter": "python",
   "pygments_lexer": "ipython3",
   "version": "3.7.6"
  }
 },
 "nbformat": 4,
 "nbformat_minor": 5
}
