{
 "cells": [
  {
   "cell_type": "markdown",
   "id": "composite-corner",
   "metadata": {},
   "source": [
    "# Estudos Sobre Sapark"
   ]
  },
  {
   "cell_type": "markdown",
   "id": "universal-dinner",
   "metadata": {},
   "source": [
    "### Ações"
   ]
  },
  {
   "cell_type": "markdown",
   "id": "sought-confusion",
   "metadata": {},
   "source": [
    "Link da documentação: http://spark.apache.org/docs/latest/rdd-programming-guide.html#actions"
   ]
  },
  {
   "cell_type": "code",
   "execution_count": 1,
   "id": "suspected-albert",
   "metadata": {},
   "outputs": [
    {
     "data": {
      "text/plain": [
       "'C:\\\\opt\\\\spark\\\\spark-3.1.1-bin-hadoop2.7'"
      ]
     },
     "execution_count": 1,
     "metadata": {},
     "output_type": "execute_result"
    }
   ],
   "source": [
    "import findspark\n",
    "findspark.init()\n",
    "findspark.find()\n",
    "import pyspark\n",
    "findspark.find()"
   ]
  },
  {
   "cell_type": "code",
   "execution_count": 2,
   "id": "reasonable-spoke",
   "metadata": {},
   "outputs": [],
   "source": [
    "from pyspark import SparkContext, SparkConf\n",
    "from pyspark.sql import SparkSession\n",
    "from pyspark.rdd import RDD\n",
    "\n",
    "conf = pyspark.SparkConf().setAppName('SparkApp').setMaster('local[*]')\n",
    "sc = pyspark.SparkContext(conf=conf)\n",
    "spark = SparkSession(sc)\n",
    "sc._conf.get('spark.driver.memory')"
   ]
  },
  {
   "cell_type": "code",
   "execution_count": 3,
   "id": "close-regression",
   "metadata": {},
   "outputs": [],
   "source": [
    "sc.setCheckpointDir('checkpoint')"
   ]
  },
  {
   "cell_type": "code",
   "execution_count": 4,
   "id": "painted-screen",
   "metadata": {},
   "outputs": [
    {
     "data": {
      "text/plain": [
       "3853"
      ]
     },
     "execution_count": 4,
     "metadata": {},
     "output_type": "execute_result"
    }
   ],
   "source": [
    "# Reduce() - soma de valores\n",
    "\n",
    "lista2 = [124, 901, 652, 102, 397, 124, 901, 652]\n",
    "lstRDD = sc.parallelize(lista2)\n",
    "lstRDD.collect()\n",
    "lstRDD.reduce(lambda x,y: x+y)"
   ]
  },
  {
   "cell_type": "code",
   "execution_count": 5,
   "id": "formed-independence",
   "metadata": {},
   "outputs": [],
   "source": [
    "# Dataframe\n",
    "\n",
    "autoDataRDD = sc.textFile('C:/Users/skite/OneDrive/Documentos/GitHub/Spark/carros.csv')"
   ]
  },
  {
   "cell_type": "code",
   "execution_count": 6,
   "id": "advance-question",
   "metadata": {},
   "outputs": [
    {
     "data": {
      "text/plain": [
       "'bmw,gas,std,two,sedan,rwd,six,182,5400,16,22,41315'"
      ]
     },
     "execution_count": 6,
     "metadata": {},
     "output_type": "execute_result"
    }
   ],
   "source": [
    "# Encontrando a linha com menor número de caracteres\n",
    "\n",
    "autoDataRDD.reduce(lambda x,y: x if len(x) < len(y) else y)"
   ]
  },
  {
   "cell_type": "code",
   "execution_count": 7,
   "id": "consistent-suite",
   "metadata": {},
   "outputs": [],
   "source": [
    "# Crinado uma função para redução\n",
    "\n",
    "def getMPG(autoStr):\n",
    "    if isinstance(autoStr, int):\n",
    "        return autoStr\n",
    "    attList = autoStr.split(',')\n",
    "    if attList[9].isdigit():\n",
    "        return int(attList[9])\n",
    "    else:\n",
    "        return 0"
   ]
  },
  {
   "cell_type": "code",
   "execution_count": 8,
   "id": "first-hearing",
   "metadata": {},
   "outputs": [
    {
     "data": {
      "text/plain": [
       "25.15228426395939"
      ]
     },
     "execution_count": 8,
     "metadata": {},
     "output_type": "execute_result"
    }
   ],
   "source": [
    "# Econtrando a média de MPG para todos os carros\n",
    "\n",
    "autoDataRDD.reduce(lambda x,y: getMPG(x) + getMPG(y)) / (autoDataRDD.count() - 1)"
   ]
  },
  {
   "cell_type": "code",
   "execution_count": 9,
   "id": "pediatric-delivery",
   "metadata": {},
   "outputs": [
    {
     "data": {
      "text/plain": [
       "['Palmeiras', 'São Paulo', 'Internacional']"
      ]
     },
     "execution_count": 9,
     "metadata": {},
     "output_type": "execute_result"
    }
   ],
   "source": [
    "teams = sc.parallelize(('Corinthians', 'Palmeiras', 'São Paulo', 'Santos', 'Gremio', 'Internacional'))\n",
    "teams.takeSample(True, 3)"
   ]
  },
  {
   "cell_type": "code",
   "execution_count": 10,
   "id": "eligible-prefix",
   "metadata": {},
   "outputs": [
    {
     "data": {
      "text/plain": [
       "dict_items([('Corinthians', 2), ('Palmeiras', 1), ('São Paulo', 1), ('Santos', 1), ('Gremio', 1), ('Internacional', 1)])"
      ]
     },
     "execution_count": 10,
     "metadata": {},
     "output_type": "execute_result"
    }
   ],
   "source": [
    "teams = sc.parallelize(('Corinthians', 'Palmeiras', 'São Paulo', 'Santos', 'Gremio', 'Internacional', 'Corinthians'))\n",
    "teams.map(lambda k: (k,1)).countByKey().items()"
   ]
  },
  {
   "cell_type": "code",
   "execution_count": 12,
   "id": "clinical-secretariat",
   "metadata": {},
   "outputs": [],
   "source": [
    "autoDataRDD.saveAsTextFile('autoDataRDDD.txt')"
   ]
  }
 ],
 "metadata": {
  "kernelspec": {
   "display_name": "Python 3",
   "language": "python",
   "name": "python3"
  },
  "language_info": {
   "codemirror_mode": {
    "name": "ipython",
    "version": 3
   },
   "file_extension": ".py",
   "mimetype": "text/x-python",
   "name": "python",
   "nbconvert_exporter": "python",
   "pygments_lexer": "ipython3",
   "version": "3.7.6"
  }
 },
 "nbformat": 4,
 "nbformat_minor": 5
}
